{
 "cells": [
  {
   "cell_type": "code",
   "execution_count": 1,
   "metadata": {
    "collapsed": false
   },
   "outputs": [],
   "source": [
    "import dedupe\n",
    "import os\n",
    "import itertools\n",
    "import time\n",
    "import logging\n",
    "import optparse\n",
    "import locale\n",
    "import pickle\n",
    "import multiprocessing\n",
    "import sqlite3 as lite\n",
    "import pandas as pd\n",
    "import unicodedata\n",
    "import csv\n",
    "import sys\n",
    "\n",
    "pd.options.display.max_columns = 999"
   ]
  },
  {
   "cell_type": "markdown",
   "metadata": {},
   "source": [
    "## Original data and cleaning"
   ]
  },
  {
   "cell_type": "code",
   "execution_count": 2,
   "metadata": {
    "collapsed": false
   },
   "outputs": [
    {
     "name": "stderr",
     "output_type": "stream",
     "text": [
      "/Users/nedyoxall/anaconda/envs/datakind3/lib/python3.5/site-packages/IPython/core/interactiveshell.py:2717: DtypeWarning: Columns (0) have mixed types. Specify dtype option on import or set low_memory=False.\n",
      "  interactivity=interactivity, compiler=compiler, result=result)\n"
     ]
    }
   ],
   "source": [
    "data = pd.read_csv('../data/companies-with-controlling-entities v6.csv', encoding='utf-8')"
   ]
  },
  {
   "cell_type": "code",
   "execution_count": 3,
   "metadata": {
    "collapsed": false
   },
   "outputs": [
    {
     "data": {
      "text/html": [
       "<div>\n",
       "<table border=\"1\" class=\"dataframe\">\n",
       "  <thead>\n",
       "    <tr style=\"text-align: right;\">\n",
       "      <th></th>\n",
       "      <th>company_number</th>\n",
       "      <th>company_name</th>\n",
       "      <th>jurisdiction_code</th>\n",
       "      <th>Controlling Entity SKey</th>\n",
       "      <th>Controlling Entity Name</th>\n",
       "      <th>opencorporates_url</th>\n",
       "      <th>address_care_of</th>\n",
       "      <th>address_country</th>\n",
       "      <th>address_locality</th>\n",
       "      <th>address_postal_code</th>\n",
       "      <th>address_region</th>\n",
       "      <th>address_street</th>\n",
       "      <th>controlling_company_type</th>\n",
       "      <th>country_of_residence</th>\n",
       "      <th>dob_month</th>\n",
       "      <th>dob_year</th>\n",
       "      <th>family_name</th>\n",
       "      <th>given_name</th>\n",
       "      <th>middle_name</th>\n",
       "      <th>nationality</th>\n",
       "      <th>po_box</th>\n",
       "      <th>title</th>\n",
       "      <th>uid</th>\n",
       "      <th>ultimate_entity_company_number</th>\n",
       "      <th>controlling_entity_company_number</th>\n",
       "    </tr>\n",
       "  </thead>\n",
       "  <tbody>\n",
       "    <tr>\n",
       "      <th>0</th>\n",
       "      <td>452</td>\n",
       "      <td>VERNON INVESTMENTS (1856) LIMITED</td>\n",
       "      <td>gb</td>\n",
       "      <td>0</td>\n",
       "      <td>Mrs Mary Jane Ursula White</td>\n",
       "      <td>https://opencorporates.com/companies/gb/00000452</td>\n",
       "      <td>NaN</td>\n",
       "      <td>United Kingdom</td>\n",
       "      <td>High Wycombe</td>\n",
       "      <td>HP10 9QN</td>\n",
       "      <td>Bucks.</td>\n",
       "      <td>The Mill House Boundary Road\\nLoudwater</td>\n",
       "      <td>NaN</td>\n",
       "      <td>United Kingdom</td>\n",
       "      <td>8.0</td>\n",
       "      <td>1961.0</td>\n",
       "      <td>White</td>\n",
       "      <td>Mary</td>\n",
       "      <td>Jane Ursula</td>\n",
       "      <td>British</td>\n",
       "      <td>NaN</td>\n",
       "      <td>Mrs</td>\n",
       "      <td>/company/00000452/persons-with-significant-con...</td>\n",
       "      <td>NaN</td>\n",
       "      <td>NaN</td>\n",
       "    </tr>\n",
       "    <tr>\n",
       "      <th>1</th>\n",
       "      <td>452</td>\n",
       "      <td>VERNON INVESTMENTS (1856) LIMITED</td>\n",
       "      <td>gb</td>\n",
       "      <td>1</td>\n",
       "      <td>Mr Andrew Gwynne Haydon White</td>\n",
       "      <td>https://opencorporates.com/companies/gb/00000452</td>\n",
       "      <td>NaN</td>\n",
       "      <td>United Kingdom</td>\n",
       "      <td>High Wycombe</td>\n",
       "      <td>HP10 9QN</td>\n",
       "      <td>Bucks.</td>\n",
       "      <td>The Mill House Boundary Road\\nLoudwater</td>\n",
       "      <td>NaN</td>\n",
       "      <td>United Kingdom</td>\n",
       "      <td>2.0</td>\n",
       "      <td>1960.0</td>\n",
       "      <td>White</td>\n",
       "      <td>Andrew</td>\n",
       "      <td>Gwynne Haydon</td>\n",
       "      <td>British</td>\n",
       "      <td>NaN</td>\n",
       "      <td>Mr</td>\n",
       "      <td>/company/00000452/persons-with-significant-con...</td>\n",
       "      <td>NaN</td>\n",
       "      <td>NaN</td>\n",
       "    </tr>\n",
       "  </tbody>\n",
       "</table>\n",
       "</div>"
      ],
      "text/plain": [
       "  company_number                       company_name jurisdiction_code  \\\n",
       "0            452  VERNON INVESTMENTS (1856) LIMITED                gb   \n",
       "1            452  VERNON INVESTMENTS (1856) LIMITED                gb   \n",
       "\n",
       "   Controlling Entity SKey        Controlling Entity Name  \\\n",
       "0                        0     Mrs Mary Jane Ursula White   \n",
       "1                        1  Mr Andrew Gwynne Haydon White   \n",
       "\n",
       "                                 opencorporates_url address_care_of  \\\n",
       "0  https://opencorporates.com/companies/gb/00000452             NaN   \n",
       "1  https://opencorporates.com/companies/gb/00000452             NaN   \n",
       "\n",
       "  address_country address_locality address_postal_code address_region  \\\n",
       "0  United Kingdom     High Wycombe            HP10 9QN         Bucks.   \n",
       "1  United Kingdom     High Wycombe            HP10 9QN         Bucks.   \n",
       "\n",
       "                            address_street controlling_company_type  \\\n",
       "0  The Mill House Boundary Road\\nLoudwater                      NaN   \n",
       "1  The Mill House Boundary Road\\nLoudwater                      NaN   \n",
       "\n",
       "  country_of_residence  dob_month  dob_year family_name given_name  \\\n",
       "0       United Kingdom        8.0    1961.0       White       Mary   \n",
       "1       United Kingdom        2.0    1960.0       White     Andrew   \n",
       "\n",
       "     middle_name nationality po_box title  \\\n",
       "0    Jane Ursula     British    NaN   Mrs   \n",
       "1  Gwynne Haydon     British    NaN    Mr   \n",
       "\n",
       "                                                 uid  \\\n",
       "0  /company/00000452/persons-with-significant-con...   \n",
       "1  /company/00000452/persons-with-significant-con...   \n",
       "\n",
       "   ultimate_entity_company_number  controlling_entity_company_number  \n",
       "0                             NaN                                NaN  \n",
       "1                             NaN                                NaN  "
      ]
     },
     "execution_count": 3,
     "metadata": {},
     "output_type": "execute_result"
    }
   ],
   "source": [
    "data.head(2)"
   ]
  },
  {
   "cell_type": "code",
   "execution_count": 4,
   "metadata": {
    "collapsed": true
   },
   "outputs": [],
   "source": [
    "# TODO - trim left and right of name for spaces? \n",
    "# TODO - check that the index is unique, or will cause problems at a later date!"
   ]
  },
  {
   "cell_type": "markdown",
   "metadata": {},
   "source": [
    "Select just the columns that are useful for entity resolution. Then:\n",
    "1. Remove rows with nulls in for family name and given name columns.\n",
    "2. Fill NaNs in other columns with None (required for dedupe package to work properly on String types).\n",
    "3. Convert numbers to strings - maybe the best way of dealing with human input text?? Open question!"
   ]
  },
  {
   "cell_type": "code",
   "execution_count": 5,
   "metadata": {
    "collapsed": true
   },
   "outputs": [],
   "source": [
    "to_dedupe = data[['family_name', 'given_name', 'middle_name', 'dob_year', 'dob_month']].copy()"
   ]
  },
  {
   "cell_type": "code",
   "execution_count": 6,
   "metadata": {
    "collapsed": false
   },
   "outputs": [],
   "source": [
    "# Some utility functions for getting dataframes ready for deduping\n",
    "def remove_nulls_from_these_columns(df, columns, verbose=False):\n",
    "    \"\"\" Utility function to remove nulls from the specified columns of a dataframe.\n",
    "        \n",
    "        Inputs: - df -> dataframe to remove nulls from\n",
    "                - columns -> list of columns which should have no nulls in\n",
    "                \n",
    "        Outputs: - new dataframe without nulls\n",
    "    \"\"\"\n",
    "    if verbose:\n",
    "        print(\"Number of rows before removing nulls: {}\".format(len(df)))\n",
    "    to_remove = df\n",
    "    for col in columns:\n",
    "        no_null = to_remove[to_remove[col].notnull()]\n",
    "        if verbose:\n",
    "            print(\"Number of rows after removing \" + col + \": {}\".format(len(no_null)))\n",
    "        to_remove = no_null\n",
    "        \n",
    "    return no_null\n",
    "\n",
    "def fill_nulls_with_none(df):\n",
    "    \"\"\" Fills nulls in a dataframe with None.\n",
    "        This is required for the Dedupe package to work properly.\n",
    "        \n",
    "        Input: - dataframe with nulls as NaN\n",
    "        \n",
    "        Output: - new dataframe with nulls as None\n",
    "    \"\"\"\n",
    "    new_df = df.copy()\n",
    "    for col in df.columns:\n",
    "        new_df[col] = new_df[col].where(new_df[col].notnull(), None)\n",
    "    return new_df\n",
    "\n",
    "def convert_numbers_to_strings(df, cols_to_convert, remove_point_zero=True):\n",
    "    \"\"\" Convert number types to strings in a dataframe.\n",
    "        This is convoluted as need to keep NoneTypes as NoneTypes for what comes next!\n",
    "        \n",
    "        Inputs: - df -> dataframe to convert number types\n",
    "                - cols_to_convert -> list of columns to convert\n",
    "                - remove_point_zero -> bool to say whether you want '.0' removed from number\n",
    "        \n",
    "        Ouputs: - dataframe with converted number types\n",
    "    \"\"\"\n",
    "    new_df = df.copy()\n",
    "    for col in cols_to_convert:\n",
    "        if remove_point_zero:\n",
    "            new_df[col] = new_df[col].apply(lambda x: str(x).replace('.0','')\\\n",
    "                                            if not isinstance(x, type(None)) else x)\n",
    "        else:\n",
    "            new_df[col] = new_df[col].apply(lambda x: str(x)\\\n",
    "                                            if not isinstance(x, type(None)) else x)\n",
    "    return new_df"
   ]
  },
  {
   "cell_type": "code",
   "execution_count": 7,
   "metadata": {
    "collapsed": false
   },
   "outputs": [
    {
     "name": "stdout",
     "output_type": "stream",
     "text": [
      "Number of rows before removing nulls: 759447\n",
      "Number of rows after removing family_name: 706156\n",
      "Number of rows after removing given_name: 706151\n"
     ]
    }
   ],
   "source": [
    "to_dedupe = remove_nulls_from_these_columns(to_dedupe, ['family_name','given_name'], verbose=True)\n",
    "to_dedupe = fill_nulls_with_none(to_dedupe)\n",
    "to_dedupe = convert_numbers_to_strings(to_dedupe, ['dob_year','dob_month'])"
   ]
  },
  {
   "cell_type": "code",
   "execution_count": 8,
   "metadata": {
    "collapsed": false
   },
   "outputs": [
    {
     "data": {
      "text/html": [
       "<div>\n",
       "<table border=\"1\" class=\"dataframe\">\n",
       "  <thead>\n",
       "    <tr style=\"text-align: right;\">\n",
       "      <th></th>\n",
       "      <th>family_name</th>\n",
       "      <th>given_name</th>\n",
       "      <th>middle_name</th>\n",
       "      <th>dob_year</th>\n",
       "      <th>dob_month</th>\n",
       "    </tr>\n",
       "  </thead>\n",
       "  <tbody>\n",
       "    <tr>\n",
       "      <th>0</th>\n",
       "      <td>White</td>\n",
       "      <td>Mary</td>\n",
       "      <td>Jane Ursula</td>\n",
       "      <td>1961</td>\n",
       "      <td>8</td>\n",
       "    </tr>\n",
       "    <tr>\n",
       "      <th>1</th>\n",
       "      <td>White</td>\n",
       "      <td>Andrew</td>\n",
       "      <td>Gwynne Haydon</td>\n",
       "      <td>1960</td>\n",
       "      <td>2</td>\n",
       "    </tr>\n",
       "    <tr>\n",
       "      <th>7</th>\n",
       "      <td>Cooke</td>\n",
       "      <td>Bernard</td>\n",
       "      <td>Patrick</td>\n",
       "      <td>1939</td>\n",
       "      <td>3</td>\n",
       "    </tr>\n",
       "    <tr>\n",
       "      <th>8</th>\n",
       "      <td>Schofield</td>\n",
       "      <td>Peter</td>\n",
       "      <td>Malcolm</td>\n",
       "      <td>1944</td>\n",
       "      <td>2</td>\n",
       "    </tr>\n",
       "    <tr>\n",
       "      <th>9</th>\n",
       "      <td>Howells</td>\n",
       "      <td>Peter</td>\n",
       "      <td>John</td>\n",
       "      <td>1951</td>\n",
       "      <td>3</td>\n",
       "    </tr>\n",
       "  </tbody>\n",
       "</table>\n",
       "</div>"
      ],
      "text/plain": [
       "  family_name given_name    middle_name dob_year dob_month\n",
       "0       White       Mary    Jane Ursula     1961         8\n",
       "1       White     Andrew  Gwynne Haydon     1960         2\n",
       "7       Cooke    Bernard        Patrick     1939         3\n",
       "8   Schofield      Peter        Malcolm     1944         2\n",
       "9     Howells      Peter           John     1951         3"
      ]
     },
     "execution_count": 8,
     "metadata": {},
     "output_type": "execute_result"
    }
   ],
   "source": [
    "to_dedupe.head()"
   ]
  },
  {
   "cell_type": "markdown",
   "metadata": {},
   "source": [
    "Dedupe requires that the input data be in the form of a list of dicts:"
   ]
  },
  {
   "cell_type": "code",
   "execution_count": 9,
   "metadata": {
    "collapsed": true
   },
   "outputs": [],
   "source": [
    "to_dedupe_dict = to_dedupe.to_dict(orient = 'index')"
   ]
  },
  {
   "cell_type": "markdown",
   "metadata": {},
   "source": [
    "This is what the entries of the list look like:"
   ]
  },
  {
   "cell_type": "code",
   "execution_count": 10,
   "metadata": {
    "collapsed": false
   },
   "outputs": [
    {
     "data": {
      "text/plain": [
       "{'dob_month': '8',\n",
       " 'dob_year': '1961',\n",
       " 'family_name': 'White',\n",
       " 'given_name': 'Mary',\n",
       " 'middle_name': 'Jane Ursula'}"
      ]
     },
     "execution_count": 10,
     "metadata": {},
     "output_type": "execute_result"
    }
   ],
   "source": [
    "to_dedupe_dict[0]"
   ]
  },
  {
   "cell_type": "markdown",
   "metadata": {},
   "source": [
    "For convenience while testing, store the `to_dedupe_dict` object as a pickle file:"
   ]
  },
  {
   "cell_type": "code",
   "execution_count": 11,
   "metadata": {
    "collapsed": true
   },
   "outputs": [],
   "source": [
    "with open('to_dedupe_dict.pkl', 'wb') as f:\n",
    "    pickle.dump(to_dedupe_dict, f)"
   ]
  },
  {
   "cell_type": "code",
   "execution_count": 12,
   "metadata": {
    "collapsed": true
   },
   "outputs": [],
   "source": [
    "with open('to_dedupe_dict.pkl', 'rb') as f:\n",
    "    to_dedupe_dict = pickle.load(f)"
   ]
  },
  {
   "cell_type": "markdown",
   "metadata": {},
   "source": [
    "## Setting up the Dedupe object\n",
    "\n",
    "Each field (or, in other words, column) has to be declared and given a type. You can read about the different options [here](https://dedupe.readthedocs.io/en/latest/Variable-definition.html): "
   ]
  },
  {
   "cell_type": "code",
   "execution_count": 13,
   "metadata": {
    "collapsed": true
   },
   "outputs": [],
   "source": [
    "# docs for this are here: \n",
    "fields = [{'field' : 'family_name', 'type' : 'String'},\n",
    "          {'field' : 'given_name', 'type': 'String'}, \n",
    "          {'field' : 'middle_name', 'type': 'String', 'has_missing' : True},\n",
    "          {'field' : 'dob_year', 'type': 'String', 'has_missing' : True},\n",
    "          {'field' : 'dob_month', 'type': 'String', 'has_missing' : True}]"
   ]
  },
  {
   "cell_type": "code",
   "execution_count": 14,
   "metadata": {
    "collapsed": false
   },
   "outputs": [],
   "source": [
    "# There is a bug later on that requires num_cores to be 1, but we can make use of\n",
    "# multi-threaded processes in the meantime\n",
    "deduper = dedupe.Dedupe(fields, num_cores=4)"
   ]
  },
  {
   "cell_type": "markdown",
   "metadata": {},
   "source": [
    "We then sample the data to get something to train on. More information about all of the `deduper` object methods can be found [here](https://dedupe.readthedocs.io/en/latest/API-documentation.html#dedupe-objects). Note that training is done by a human - pairs of records are presented and you're asked whether they are referring to the same thing or not (coming to this bit shortly!)"
   ]
  },
  {
   "cell_type": "code",
   "execution_count": 15,
   "metadata": {
    "collapsed": false
   },
   "outputs": [],
   "source": [
    "deduper.sample(to_dedupe_dict, sample_size=1000000)"
   ]
  },
  {
   "cell_type": "markdown",
   "metadata": {},
   "source": [
    "## Training dedupe with human-matched records\n",
    "\n",
    "If you've already done the training, load the file that contains the record pairs marked as being duplicates or not. (It gets saved as a json file)."
   ]
  },
  {
   "cell_type": "code",
   "execution_count": 16,
   "metadata": {
    "collapsed": false
   },
   "outputs": [
    {
     "name": "stderr",
     "output_type": "stream",
     "text": [
      "INFO:dedupe.api:reading training from file\n"
     ]
    },
    {
     "name": "stdout",
     "output_type": "stream",
     "text": [
      "reading labeled examples from  controlling_entities_dedupe_training.json\n"
     ]
    }
   ],
   "source": [
    "training_file = 'controlling_entities_dedupe_training.json'\n",
    "if os.path.exists(training_file):\n",
    "    print('reading labeled examples from ', training_file)\n",
    "    with open(training_file, 'rb') as tf:\n",
    "        deduper.readTraining(tf)\n",
    "else:\n",
    "    print('no training file found - will create new one: ' + training_file)"
   ]
  },
  {
   "cell_type": "code",
   "execution_count": 17,
   "metadata": {
    "collapsed": false
   },
   "outputs": [
    {
     "name": "stderr",
     "output_type": "stream",
     "text": [
      "family_name : Hilton\n",
      "given_name : Paul\n",
      "middle_name : Christopher\n",
      "dob_year : 1967\n",
      "dob_month : 6\n",
      "\n",
      "family_name : Hilton\n",
      "given_name : Paul\n",
      "middle_name : None\n",
      "dob_year : 1967\n",
      "dob_month : 10\n",
      "\n",
      "21/10 positive, 27/10 negative\n",
      "Do these records refer to the same thing?\n",
      "(y)es / (n)o / (u)nsure / (f)inished\n"
     ]
    },
    {
     "name": "stdout",
     "output_type": "stream",
     "text": [
      "n\n"
     ]
    },
    {
     "name": "stderr",
     "output_type": "stream",
     "text": [
      "family_name : Watts\n",
      "given_name : Stephen\n",
      "middle_name : Patrick James\n",
      "dob_year : 1951\n",
      "dob_month : 3\n",
      "\n",
      "family_name : Watt\n",
      "given_name : Stephen\n",
      "middle_name : None\n",
      "dob_year : 1959\n",
      "dob_month : 3\n",
      "\n",
      "21/10 positive, 28/10 negative\n",
      "Do these records refer to the same thing?\n",
      "(y)es / (n)o / (u)nsure / (f)inished\n"
     ]
    },
    {
     "name": "stdout",
     "output_type": "stream",
     "text": [
      "n\n"
     ]
    },
    {
     "name": "stderr",
     "output_type": "stream",
     "text": [
      "family_name : Perkins\n",
      "given_name : Mary\n",
      "middle_name : Lesley\n",
      "dob_year : 1943\n",
      "dob_month : 2\n",
      "\n",
      "family_name : Perkins\n",
      "given_name : Mary\n",
      "middle_name : Lesley\n",
      "dob_year : 1944\n",
      "dob_month : 2\n",
      "\n",
      "21/10 positive, 29/10 negative\n",
      "Do these records refer to the same thing?\n",
      "(y)es / (n)o / (u)nsure / (f)inished\n"
     ]
    },
    {
     "name": "stdout",
     "output_type": "stream",
     "text": [
      "y\n"
     ]
    },
    {
     "name": "stderr",
     "output_type": "stream",
     "text": [
      "family_name : Brown\n",
      "given_name : Dominic\n",
      "middle_name : None\n",
      "dob_year : 1973\n",
      "dob_month : 8\n",
      "\n",
      "family_name : Brownlee\n",
      "given_name : Dominic\n",
      "middle_name : None\n",
      "dob_year : 1978\n",
      "dob_month : 8\n",
      "\n",
      "22/10 positive, 29/10 negative\n",
      "Do these records refer to the same thing?\n",
      "(y)es / (n)o / (u)nsure / (f)inished\n"
     ]
    },
    {
     "name": "stdout",
     "output_type": "stream",
     "text": [
      "n\n"
     ]
    },
    {
     "name": "stderr",
     "output_type": "stream",
     "text": [
      "family_name : Kirby\n",
      "given_name : Hugo\n",
      "middle_name : Giles Stephen Astley\n",
      "dob_year : 1953\n",
      "dob_month : 5\n",
      "\n",
      "family_name : Kirby\n",
      "given_name : Hugo\n",
      "middle_name : Giles Stephen Astley\n",
      "dob_year : 1958\n",
      "dob_month : 5\n",
      "\n",
      "22/10 positive, 30/10 negative\n",
      "Do these records refer to the same thing?\n",
      "(y)es / (n)o / (u)nsure / (f)inished\n"
     ]
    },
    {
     "name": "stdout",
     "output_type": "stream",
     "text": [
      "y\n"
     ]
    },
    {
     "name": "stderr",
     "output_type": "stream",
     "text": [
      "family_name : Chen\n",
      "given_name : Hongbing\n",
      "middle_name : None\n",
      "dob_year : 1971\n",
      "dob_month : 12\n",
      "\n",
      "family_name : Chen\n",
      "given_name : Hongbin\n",
      "middle_name : None\n",
      "dob_year : 1970\n",
      "dob_month : 12\n",
      "\n",
      "23/10 positive, 30/10 negative\n",
      "Do these records refer to the same thing?\n",
      "(y)es / (n)o / (u)nsure / (f)inished\n"
     ]
    },
    {
     "name": "stdout",
     "output_type": "stream",
     "text": [
      "y\n"
     ]
    },
    {
     "name": "stderr",
     "output_type": "stream",
     "text": [
      "family_name : White\n",
      "given_name : June\n",
      "middle_name : Elizabeth\n",
      "dob_year : 1949\n",
      "dob_month : 6\n",
      "\n",
      "family_name : Whitehouse\n",
      "given_name : June\n",
      "middle_name : None\n",
      "dob_year : 1941\n",
      "dob_month : 6\n",
      "\n",
      "24/10 positive, 30/10 negative\n",
      "Do these records refer to the same thing?\n",
      "(y)es / (n)o / (u)nsure / (f)inished\n"
     ]
    },
    {
     "name": "stdout",
     "output_type": "stream",
     "text": [
      "n\n"
     ]
    },
    {
     "name": "stderr",
     "output_type": "stream",
     "text": [
      "family_name : Greaves\n",
      "given_name : Justin\n",
      "middle_name : Piers Leonard\n",
      "dob_year : 1947\n",
      "dob_month : 12\n",
      "\n",
      "family_name : Greaves\n",
      "given_name : Justin\n",
      "middle_name : Piers Leonard\n",
      "dob_year : 1957\n",
      "dob_month : 12\n",
      "\n",
      "24/10 positive, 31/10 negative\n",
      "Do these records refer to the same thing?\n",
      "(y)es / (n)o / (u)nsure / (f)inished\n"
     ]
    },
    {
     "name": "stdout",
     "output_type": "stream",
     "text": [
      "y\n"
     ]
    },
    {
     "name": "stderr",
     "output_type": "stream",
     "text": [
      "family_name : Grant\n",
      "given_name : Jo\n",
      "middle_name : None\n",
      "dob_year : 1970\n",
      "dob_month : 8\n",
      "\n",
      "family_name : Grant\n",
      "given_name : John\n",
      "middle_name : Kenneth\n",
      "dob_year : 1960\n",
      "dob_month : 8\n",
      "\n",
      "25/10 positive, 31/10 negative\n",
      "Do these records refer to the same thing?\n",
      "(y)es / (n)o / (u)nsure / (f)inished\n"
     ]
    },
    {
     "name": "stdout",
     "output_type": "stream",
     "text": [
      "n\n"
     ]
    },
    {
     "name": "stderr",
     "output_type": "stream",
     "text": [
      "family_name : Quinn\n",
      "given_name : Paul\n",
      "middle_name : Lawrence Patrick\n",
      "dob_year : 1971\n",
      "dob_month : 6\n",
      "\n",
      "family_name : Quinn\n",
      "given_name : Paul\n",
      "middle_name : Patrick\n",
      "dob_year : 1979\n",
      "dob_month : 6\n",
      "\n",
      "25/10 positive, 32/10 negative\n",
      "Do these records refer to the same thing?\n",
      "(y)es / (n)o / (u)nsure / (f)inished\n"
     ]
    },
    {
     "name": "stdout",
     "output_type": "stream",
     "text": [
      "n\n"
     ]
    },
    {
     "name": "stderr",
     "output_type": "stream",
     "text": [
      "family_name : Kirby\n",
      "given_name : Hugo\n",
      "middle_name : Giles Stephen Astley\n",
      "dob_year : 1958\n",
      "dob_month : 5\n",
      "\n",
      "family_name : Kirby\n",
      "given_name : Hugo\n",
      "middle_name : Giles Stephen Astley\n",
      "dob_year : 1953\n",
      "dob_month : 5\n",
      "\n",
      "25/10 positive, 33/10 negative\n",
      "Do these records refer to the same thing?\n",
      "(y)es / (n)o / (u)nsure / (f)inished\n"
     ]
    },
    {
     "name": "stdout",
     "output_type": "stream",
     "text": [
      "y\n"
     ]
    },
    {
     "name": "stderr",
     "output_type": "stream",
     "text": [
      "family_name : Meek\n",
      "given_name : Jeffrey\n",
      "middle_name : Andrew Callaghan\n",
      "dob_year : 1963\n",
      "dob_month : 4\n",
      "\n",
      "family_name : Meek\n",
      "given_name : Jeffrey\n",
      "middle_name : Andrew Callaghan\n",
      "dob_year : 1962\n",
      "dob_month : 4\n",
      "\n",
      "26/10 positive, 33/10 negative\n",
      "Do these records refer to the same thing?\n",
      "(y)es / (n)o / (u)nsure / (f)inished\n"
     ]
    },
    {
     "name": "stdout",
     "output_type": "stream",
     "text": [
      "y\n"
     ]
    },
    {
     "name": "stderr",
     "output_type": "stream",
     "text": [
      "family_name : Dalton\n",
      "given_name : Richard\n",
      "middle_name : Alistair\n",
      "dob_year : 1969\n",
      "dob_month : 1\n",
      "\n",
      "family_name : Dalton\n",
      "given_name : Richard\n",
      "middle_name : None\n",
      "dob_year : 1960\n",
      "dob_month : 12\n",
      "\n",
      "27/10 positive, 33/10 negative\n",
      "Do these records refer to the same thing?\n",
      "(y)es / (n)o / (u)nsure / (f)inished\n"
     ]
    },
    {
     "name": "stdout",
     "output_type": "stream",
     "text": [
      "n\n"
     ]
    },
    {
     "name": "stderr",
     "output_type": "stream",
     "text": [
      "family_name : Harris\n",
      "given_name : Jarod\n",
      "middle_name : Thomas Chamberlain\n",
      "dob_year : 1971\n",
      "dob_month : 2\n",
      "\n",
      "family_name : Harris\n",
      "given_name : Jarod\n",
      "middle_name : Thomas Chamberlain\n",
      "dob_year : 1972\n",
      "dob_month : 2\n",
      "\n",
      "27/10 positive, 34/10 negative\n",
      "Do these records refer to the same thing?\n",
      "(y)es / (n)o / (u)nsure / (f)inished\n"
     ]
    },
    {
     "name": "stdout",
     "output_type": "stream",
     "text": [
      "y\n"
     ]
    },
    {
     "name": "stderr",
     "output_type": "stream",
     "text": [
      "family_name : Parsons\n",
      "given_name : Andrew\n",
      "middle_name : None\n",
      "dob_year : 1964\n",
      "dob_month : 1\n",
      "\n",
      "family_name : Parsons\n",
      "given_name : Andrew\n",
      "middle_name : Keith\n",
      "dob_year : 1961\n",
      "dob_month : 11\n",
      "\n",
      "28/10 positive, 34/10 negative\n",
      "Do these records refer to the same thing?\n",
      "(y)es / (n)o / (u)nsure / (f)inished\n"
     ]
    },
    {
     "name": "stdout",
     "output_type": "stream",
     "text": [
      "n\n"
     ]
    },
    {
     "name": "stderr",
     "output_type": "stream",
     "text": [
      "family_name : Prabhaker\n",
      "given_name : Sangeet\n",
      "middle_name : Alejanro Luis\n",
      "dob_year : 1979\n",
      "dob_month : 3\n",
      "\n",
      "family_name : Prabhaker\n",
      "given_name : Sangeet\n",
      "middle_name : Alejanro Luis\n",
      "dob_year : 1976\n",
      "dob_month : 3\n",
      "\n",
      "28/10 positive, 35/10 negative\n",
      "Do these records refer to the same thing?\n",
      "(y)es / (n)o / (u)nsure / (f)inished\n"
     ]
    },
    {
     "name": "stdout",
     "output_type": "stream",
     "text": [
      "y\n"
     ]
    },
    {
     "name": "stderr",
     "output_type": "stream",
     "text": [
      "family_name : Griffiths\n",
      "given_name : Peter\n",
      "middle_name : David\n",
      "dob_year : 1959\n",
      "dob_month : 12\n",
      "\n",
      "family_name : Griffiths\n",
      "given_name : Peter\n",
      "middle_name : None\n",
      "dob_year : 1979\n",
      "dob_month : 1\n",
      "\n",
      "29/10 positive, 35/10 negative\n",
      "Do these records refer to the same thing?\n",
      "(y)es / (n)o / (u)nsure / (f)inished\n"
     ]
    },
    {
     "name": "stdout",
     "output_type": "stream",
     "text": [
      "n\n"
     ]
    },
    {
     "name": "stderr",
     "output_type": "stream",
     "text": [
      "family_name : Davies\n",
      "given_name : Peter\n",
      "middle_name : Joseph Mansel\n",
      "dob_year : 1969\n",
      "dob_month : 9\n",
      "\n",
      "family_name : Davies\n",
      "given_name : Peter\n",
      "middle_name : Joseph Mansel\n",
      "dob_year : 1962\n",
      "dob_month : 9\n",
      "\n",
      "29/10 positive, 36/10 negative\n",
      "Do these records refer to the same thing?\n",
      "(y)es / (n)o / (u)nsure / (f)inished\n"
     ]
    },
    {
     "name": "stdout",
     "output_type": "stream",
     "text": [
      "y\n"
     ]
    },
    {
     "name": "stderr",
     "output_type": "stream",
     "text": [
      "family_name : Noble\n",
      "given_name : David\n",
      "middle_name : None\n",
      "dob_year : 1956\n",
      "dob_month : 1\n",
      "\n",
      "family_name : Noble\n",
      "given_name : David\n",
      "middle_name : Clive\n",
      "dob_year : 1955\n",
      "dob_month : 11\n",
      "\n",
      "30/10 positive, 36/10 negative\n",
      "Do these records refer to the same thing?\n",
      "(y)es / (n)o / (u)nsure / (f)inished\n"
     ]
    },
    {
     "name": "stdout",
     "output_type": "stream",
     "text": [
      "n\n"
     ]
    },
    {
     "name": "stderr",
     "output_type": "stream",
     "text": [
      "family_name : Beever Estate\n",
      "given_name : Executors\n",
      "middle_name : Of Edward\n",
      "dob_year : 2015\n",
      "dob_month : 9\n",
      "\n",
      "family_name : Beever\n",
      "given_name : The\n",
      "middle_name : Executors Of Edward\n",
      "dob_year : 2015\n",
      "dob_month : 9\n",
      "\n",
      "30/10 positive, 37/10 negative\n",
      "Do these records refer to the same thing?\n",
      "(y)es / (n)o / (u)nsure / (f)inished\n"
     ]
    },
    {
     "name": "stdout",
     "output_type": "stream",
     "text": [
      "y\n"
     ]
    },
    {
     "name": "stderr",
     "output_type": "stream",
     "text": [
      "family_name : Jones\n",
      "given_name : Darren\n",
      "middle_name : Raymond\n",
      "dob_year : 1971\n",
      "dob_month : 5\n",
      "\n",
      "family_name : Jones\n",
      "given_name : Darren\n",
      "middle_name : Paul\n",
      "dob_year : 1976\n",
      "dob_month : 5\n",
      "\n",
      "31/10 positive, 37/10 negative\n",
      "Do these records refer to the same thing?\n",
      "(y)es / (n)o / (u)nsure / (f)inished\n"
     ]
    },
    {
     "name": "stdout",
     "output_type": "stream",
     "text": [
      "n\n"
     ]
    },
    {
     "name": "stderr",
     "output_type": "stream",
     "text": [
      "family_name : Solanki\n",
      "given_name : Nimesh\n",
      "middle_name : None\n",
      "dob_year : 1980\n",
      "dob_month : 4\n",
      "\n",
      "family_name : Solanki\n",
      "given_name : Kailesh\n",
      "middle_name : None\n",
      "dob_year : 1980\n",
      "dob_month : 4\n",
      "\n",
      "31/10 positive, 38/10 negative\n",
      "Do these records refer to the same thing?\n",
      "(y)es / (n)o / (u)nsure / (f)inished\n"
     ]
    },
    {
     "name": "stdout",
     "output_type": "stream",
     "text": [
      "n\n"
     ]
    },
    {
     "name": "stderr",
     "output_type": "stream",
     "text": [
      "family_name : Anstruther Gough Calthorpe Bt\n",
      "given_name : Euan\n",
      "middle_name : Hamilton\n",
      "dob_year : 1966\n",
      "dob_month : 6\n",
      "\n",
      "family_name : Anstruther Gough Calthorpe Bt\n",
      "given_name : Euan\n",
      "middle_name : Hamilton\n",
      "dob_year : 1996\n",
      "dob_month : 6\n",
      "\n",
      "31/10 positive, 39/10 negative\n",
      "Do these records refer to the same thing?\n",
      "(y)es / (n)o / (u)nsure / (f)inished\n"
     ]
    },
    {
     "name": "stdout",
     "output_type": "stream",
     "text": [
      "y\n"
     ]
    },
    {
     "name": "stderr",
     "output_type": "stream",
     "text": [
      "family_name : Thomson\n",
      "given_name : William\n",
      "middle_name : George Ritchie\n",
      "dob_year : 1951\n",
      "dob_month : 5\n",
      "\n",
      "family_name : Thomson\n",
      "given_name : William\n",
      "middle_name : George Ritchie\n",
      "dob_year : 1950\n",
      "dob_month : 5\n",
      "\n",
      "32/10 positive, 39/10 negative\n",
      "Do these records refer to the same thing?\n",
      "(y)es / (n)o / (u)nsure / (f)inished\n"
     ]
    },
    {
     "name": "stdout",
     "output_type": "stream",
     "text": [
      "y\n"
     ]
    },
    {
     "name": "stderr",
     "output_type": "stream",
     "text": [
      "family_name : Hall\n",
      "given_name : Richard\n",
      "middle_name : Bruce\n",
      "dob_year : 1952\n",
      "dob_month : 10\n",
      "\n",
      "family_name : Billingsley\n",
      "given_name : Richard\n",
      "middle_name : Albert\n",
      "dob_year : 1952\n",
      "dob_month : 10\n",
      "\n",
      "33/10 positive, 39/10 negative\n",
      "Do these records refer to the same thing?\n",
      "(y)es / (n)o / (u)nsure / (f)inished\n"
     ]
    },
    {
     "name": "stdout",
     "output_type": "stream",
     "text": [
      "n\n"
     ]
    },
    {
     "name": "stderr",
     "output_type": "stream",
     "text": [
      "family_name : Shiekh\n",
      "given_name : Amar\n",
      "middle_name : None\n",
      "dob_year : 1961\n",
      "dob_month : 1\n",
      "\n",
      "family_name : Sheikh\n",
      "given_name : Amar\n",
      "middle_name : None\n",
      "dob_year : 1961\n",
      "dob_month : 1\n",
      "\n",
      "33/10 positive, 40/10 negative\n",
      "Do these records refer to the same thing?\n",
      "(y)es / (n)o / (u)nsure / (f)inished\n"
     ]
    },
    {
     "name": "stdout",
     "output_type": "stream",
     "text": [
      "y\n"
     ]
    },
    {
     "name": "stderr",
     "output_type": "stream",
     "text": [
      "family_name : De Pellette\n",
      "given_name : Alan\n",
      "middle_name : James\n",
      "dob_year : 1968\n",
      "dob_month : 12\n",
      "\n",
      "family_name : De Pellette\n",
      "given_name : Alan\n",
      "middle_name : None\n",
      "dob_year : 1968\n",
      "dob_month : 2\n",
      "\n",
      "34/10 positive, 40/10 negative\n",
      "Do these records refer to the same thing?\n",
      "(y)es / (n)o / (u)nsure / (f)inished\n"
     ]
    },
    {
     "name": "stdout",
     "output_type": "stream",
     "text": [
      "y\n"
     ]
    },
    {
     "name": "stderr",
     "output_type": "stream",
     "text": [
      "family_name : Harris\n",
      "given_name : Anthony\n",
      "middle_name : None\n",
      "dob_year : 1968\n",
      "dob_month : 10\n",
      "\n",
      "family_name : Harris\n",
      "given_name : Anthony\n",
      "middle_name : John\n",
      "dob_year : 1968\n",
      "dob_month : 5\n",
      "\n",
      "35/10 positive, 40/10 negative\n",
      "Do these records refer to the same thing?\n",
      "(y)es / (n)o / (u)nsure / (f)inished\n"
     ]
    },
    {
     "name": "stdout",
     "output_type": "stream",
     "text": [
      "n\n"
     ]
    },
    {
     "name": "stderr",
     "output_type": "stream",
     "text": [
      "family_name : Collison\n",
      "given_name : Christian\n",
      "middle_name : David Ross\n",
      "dob_year : 1984\n",
      "dob_month : 11\n",
      "\n",
      "family_name : Collison\n",
      "given_name : Christian\n",
      "middle_name : David Ross\n",
      "dob_year : 1984\n",
      "dob_month : 8\n",
      "\n",
      "35/10 positive, 41/10 negative\n",
      "Do these records refer to the same thing?\n",
      "(y)es / (n)o / (u)nsure / (f)inished\n"
     ]
    },
    {
     "name": "stdout",
     "output_type": "stream",
     "text": [
      "y\n"
     ]
    },
    {
     "name": "stderr",
     "output_type": "stream",
     "text": [
      "family_name : Newett\n",
      "given_name : David\n",
      "middle_name : Ian\n",
      "dob_year : 1959\n",
      "dob_month : 2\n",
      "\n",
      "family_name : Newett\n",
      "given_name : David\n",
      "middle_name : Ian\n",
      "dob_year : 1959\n",
      "dob_month : 12\n",
      "\n",
      "36/10 positive, 41/10 negative\n",
      "Do these records refer to the same thing?\n",
      "(y)es / (n)o / (u)nsure / (f)inished\n"
     ]
    },
    {
     "name": "stdout",
     "output_type": "stream",
     "text": [
      "y\n"
     ]
    },
    {
     "name": "stderr",
     "output_type": "stream",
     "text": [
      "family_name : Farrugia\n",
      "given_name : Paul\n",
      "middle_name : John\n",
      "dob_year : 1957\n",
      "dob_month : 11\n",
      "\n",
      "family_name : Farrugia\n",
      "given_name : Paula\n",
      "middle_name : None\n",
      "dob_year : 1957\n",
      "dob_month : 2\n",
      "\n",
      "37/10 positive, 41/10 negative\n",
      "Do these records refer to the same thing?\n",
      "(y)es / (n)o / (u)nsure / (f)inished\n"
     ]
    },
    {
     "name": "stdout",
     "output_type": "stream",
     "text": [
      "n\n"
     ]
    },
    {
     "name": "stderr",
     "output_type": "stream",
     "text": [
      "family_name : Paterson\n",
      "given_name : Thomas\n",
      "middle_name : James\n",
      "dob_year : 1979\n",
      "dob_month : 9\n",
      "\n",
      "family_name : Paterson\n",
      "given_name : Thomas\n",
      "middle_name : James\n",
      "dob_year : 1979\n",
      "dob_month : 10\n",
      "\n",
      "37/10 positive, 42/10 negative\n",
      "Do these records refer to the same thing?\n",
      "(y)es / (n)o / (u)nsure / (f)inished\n"
     ]
    },
    {
     "name": "stdout",
     "output_type": "stream",
     "text": [
      "y\n"
     ]
    },
    {
     "name": "stderr",
     "output_type": "stream",
     "text": [
      "family_name : Chesterfield\n",
      "given_name : Philip\n",
      "middle_name : Markham\n",
      "dob_year : 1965\n",
      "dob_month : 12\n",
      "\n",
      "family_name : Chesterfield\n",
      "given_name : Philip\n",
      "middle_name : Markham\n",
      "dob_year : 1965\n",
      "dob_month : 2\n",
      "\n",
      "38/10 positive, 42/10 negative\n",
      "Do these records refer to the same thing?\n",
      "(y)es / (n)o / (u)nsure / (f)inished\n"
     ]
    },
    {
     "name": "stdout",
     "output_type": "stream",
     "text": [
      "y\n"
     ]
    },
    {
     "name": "stderr",
     "output_type": "stream",
     "text": [
      "family_name : Sanders\n",
      "given_name : Justin\n",
      "middle_name : David Cavania\n",
      "dob_year : 1972\n",
      "dob_month : 6\n",
      "\n",
      "family_name : Sanders\n",
      "given_name : Justin\n",
      "middle_name : David Cavania\n",
      "dob_year : 1976\n",
      "dob_month : 6\n",
      "\n",
      "39/10 positive, 42/10 negative\n",
      "Do these records refer to the same thing?\n",
      "(y)es / (n)o / (u)nsure / (f)inished\n"
     ]
    },
    {
     "name": "stdout",
     "output_type": "stream",
     "text": [
      "y\n"
     ]
    },
    {
     "name": "stderr",
     "output_type": "stream",
     "text": [
      "family_name : Anstruther Gough Calthorpe Bt\n",
      "given_name : Euan\n",
      "middle_name : Hamilton\n",
      "dob_year : 1996\n",
      "dob_month : 6\n",
      "\n",
      "family_name : Anstruther Gough Calthorpe Bt\n",
      "given_name : Euan\n",
      "middle_name : Hamilton\n",
      "dob_year : 1966\n",
      "dob_month : 6\n",
      "\n",
      "40/10 positive, 42/10 negative\n",
      "Do these records refer to the same thing?\n",
      "(y)es / (n)o / (u)nsure / (f)inished\n"
     ]
    },
    {
     "name": "stdout",
     "output_type": "stream",
     "text": [
      "y\n"
     ]
    },
    {
     "name": "stderr",
     "output_type": "stream",
     "text": [
      "family_name : Beattie\n",
      "given_name : Will\n",
      "middle_name : Eric Macdonald\n",
      "dob_year : 1973\n",
      "dob_month : 3\n",
      "\n",
      "family_name : Beattie\n",
      "given_name : William\n",
      "middle_name : Brian\n",
      "dob_year : 1943\n",
      "dob_month : 3\n",
      "\n",
      "41/10 positive, 42/10 negative\n",
      "Do these records refer to the same thing?\n",
      "(y)es / (n)o / (u)nsure / (f)inished\n"
     ]
    },
    {
     "name": "stdout",
     "output_type": "stream",
     "text": [
      "n\n"
     ]
    },
    {
     "name": "stderr",
     "output_type": "stream",
     "text": [
      "family_name : Meath Baker\n",
      "given_name : Prescilla\n",
      "middle_name : Ann\n",
      "dob_year : 1937\n",
      "dob_month : 5\n",
      "\n",
      "family_name : Meath Baker\n",
      "given_name : Prescilla\n",
      "middle_name : Ann\n",
      "dob_year : 1938\n",
      "dob_month : 5\n",
      "\n",
      "41/10 positive, 43/10 negative\n",
      "Do these records refer to the same thing?\n",
      "(y)es / (n)o / (u)nsure / (f)inished\n"
     ]
    },
    {
     "name": "stdout",
     "output_type": "stream",
     "text": [
      "y\n"
     ]
    },
    {
     "name": "stderr",
     "output_type": "stream",
     "text": [
      "family_name : Millar\n",
      "given_name : Lynne\n",
      "middle_name : Patricia\n",
      "dob_year : 1959\n",
      "dob_month : 3\n",
      "\n",
      "family_name : Wall\n",
      "given_name : Lynne\n",
      "middle_name : None\n",
      "dob_year : 1959\n",
      "dob_month : 3\n",
      "\n",
      "42/10 positive, 43/10 negative\n",
      "Do these records refer to the same thing?\n",
      "(y)es / (n)o / (u)nsure / (f)inished\n"
     ]
    },
    {
     "name": "stdout",
     "output_type": "stream",
     "text": [
      "f\n"
     ]
    },
    {
     "name": "stderr",
     "output_type": "stream",
     "text": [
      "Finished labeling\n"
     ]
    }
   ],
   "source": [
    "dedupe.convenience.consoleLabel(deduper)"
   ]
  },
  {
   "cell_type": "markdown",
   "metadata": {},
   "source": [
    "Once you've provided the training data, you can train the model."
   ]
  },
  {
   "cell_type": "code",
   "execution_count": 19,
   "metadata": {
    "collapsed": false,
    "scrolled": false
   },
   "outputs": [
    {
     "name": "stderr",
     "output_type": "stream",
     "text": [
      "INFO:rlr.crossvalidation:using cross validation to find optimum alpha...\n",
      "INFO:rlr.crossvalidation:optimum alpha: 0.001000\n",
      "INFO:dedupe.blocking:Canopy: TfidfTextCanopyPredicate: (0.4, given_name)\n",
      "INFO:dedupe.blocking:Canopy: TfidfTextCanopyPredicate: (0.6, given_name)\n",
      "INFO:dedupe.blocking:Canopy: TfidfTextCanopyPredicate: (0.2, given_name)\n",
      "INFO:dedupe.blocking:Canopy: TfidfTextCanopyPredicate: (0.8, given_name)\n",
      "INFO:dedupe.blocking:Canopy: LevenshteinCanopyPredicate: (3, given_name)\n",
      "INFO:dedupe.blocking:Canopy: LevenshteinCanopyPredicate: (2, given_name)\n",
      "INFO:dedupe.blocking:Canopy: LevenshteinCanopyPredicate: (1, given_name)\n",
      "INFO:dedupe.blocking:Canopy: LevenshteinCanopyPredicate: (4, given_name)\n",
      "INFO:dedupe.blocking:Canopy: TfidfNGramCanopyPredicate: (0.6, given_name)\n",
      "INFO:dedupe.blocking:Canopy: TfidfNGramCanopyPredicate: (0.2, given_name)\n",
      "INFO:dedupe.blocking:Canopy: TfidfNGramCanopyPredicate: (0.4, given_name)\n",
      "INFO:dedupe.blocking:Canopy: TfidfNGramCanopyPredicate: (0.8, given_name)\n",
      "INFO:dedupe.blocking:Canopy: TfidfTextCanopyPredicate: (0.8, dob_month)\n",
      "INFO:dedupe.blocking:Canopy: TfidfTextCanopyPredicate: (0.4, dob_month)\n",
      "INFO:dedupe.blocking:Canopy: TfidfTextCanopyPredicate: (0.2, dob_month)\n",
      "INFO:dedupe.blocking:Canopy: TfidfTextCanopyPredicate: (0.6, dob_month)\n",
      "INFO:dedupe.blocking:Canopy: LevenshteinCanopyPredicate: (2, dob_month)\n",
      "INFO:dedupe.blocking:Canopy: LevenshteinCanopyPredicate: (4, dob_month)\n",
      "INFO:dedupe.blocking:Canopy: LevenshteinCanopyPredicate: (3, dob_month)\n",
      "INFO:dedupe.blocking:Canopy: LevenshteinCanopyPredicate: (1, dob_month)\n",
      "INFO:dedupe.blocking:Canopy: TfidfNGramCanopyPredicate: (0.8, dob_month)\n",
      "INFO:dedupe.blocking:Canopy: TfidfNGramCanopyPredicate: (0.2, dob_month)\n",
      "INFO:dedupe.blocking:Canopy: TfidfNGramCanopyPredicate: (0.6, dob_month)\n",
      "INFO:dedupe.blocking:Canopy: TfidfNGramCanopyPredicate: (0.4, dob_month)\n",
      "INFO:dedupe.blocking:Canopy: TfidfTextCanopyPredicate: (0.6, middle_name)\n",
      "INFO:dedupe.blocking:Canopy: TfidfTextCanopyPredicate: (0.4, middle_name)\n",
      "INFO:dedupe.blocking:Canopy: TfidfTextCanopyPredicate: (0.2, middle_name)\n",
      "INFO:dedupe.blocking:Canopy: TfidfTextCanopyPredicate: (0.8, middle_name)\n",
      "INFO:dedupe.blocking:Canopy: LevenshteinCanopyPredicate: (4, middle_name)\n",
      "INFO:dedupe.blocking:Canopy: LevenshteinCanopyPredicate: (3, middle_name)\n",
      "INFO:dedupe.blocking:Canopy: LevenshteinCanopyPredicate: (2, middle_name)\n",
      "INFO:dedupe.blocking:Canopy: LevenshteinCanopyPredicate: (1, middle_name)\n",
      "INFO:dedupe.blocking:Canopy: TfidfNGramCanopyPredicate: (0.6, middle_name)\n",
      "INFO:dedupe.blocking:Canopy: TfidfNGramCanopyPredicate: (0.2, middle_name)\n",
      "INFO:dedupe.blocking:Canopy: TfidfNGramCanopyPredicate: (0.4, middle_name)\n",
      "INFO:dedupe.blocking:Canopy: TfidfNGramCanopyPredicate: (0.8, middle_name)\n",
      "INFO:dedupe.blocking:Canopy: TfidfTextCanopyPredicate: (0.2, family_name)\n",
      "INFO:dedupe.blocking:Canopy: TfidfTextCanopyPredicate: (0.4, family_name)\n",
      "INFO:dedupe.blocking:Canopy: TfidfTextCanopyPredicate: (0.8, family_name)\n",
      "INFO:dedupe.blocking:Canopy: TfidfTextCanopyPredicate: (0.6, family_name)\n",
      "INFO:dedupe.blocking:Canopy: LevenshteinCanopyPredicate: (2, family_name)\n",
      "INFO:dedupe.blocking:Canopy: LevenshteinCanopyPredicate: (1, family_name)\n",
      "INFO:dedupe.blocking:Canopy: LevenshteinCanopyPredicate: (4, family_name)\n",
      "INFO:dedupe.blocking:Canopy: LevenshteinCanopyPredicate: (3, family_name)\n",
      "INFO:dedupe.blocking:Canopy: TfidfNGramCanopyPredicate: (0.4, family_name)\n",
      "INFO:dedupe.blocking:Canopy: TfidfNGramCanopyPredicate: (0.8, family_name)\n",
      "INFO:dedupe.blocking:Canopy: TfidfNGramCanopyPredicate: (0.6, family_name)\n",
      "INFO:dedupe.blocking:Canopy: TfidfNGramCanopyPredicate: (0.2, family_name)\n",
      "INFO:dedupe.blocking:Canopy: TfidfTextCanopyPredicate: (0.8, dob_year)\n",
      "INFO:dedupe.blocking:Canopy: TfidfTextCanopyPredicate: (0.6, dob_year)\n",
      "INFO:dedupe.blocking:Canopy: TfidfTextCanopyPredicate: (0.2, dob_year)\n",
      "INFO:dedupe.blocking:Canopy: TfidfTextCanopyPredicate: (0.4, dob_year)\n",
      "INFO:dedupe.blocking:Canopy: LevenshteinCanopyPredicate: (4, dob_year)\n",
      "INFO:dedupe.blocking:Canopy: LevenshteinCanopyPredicate: (1, dob_year)\n",
      "INFO:dedupe.blocking:Canopy: LevenshteinCanopyPredicate: (3, dob_year)\n",
      "INFO:dedupe.blocking:Canopy: LevenshteinCanopyPredicate: (2, dob_year)\n",
      "INFO:dedupe.blocking:Canopy: TfidfNGramCanopyPredicate: (0.2, dob_year)\n",
      "INFO:dedupe.blocking:Canopy: TfidfNGramCanopyPredicate: (0.6, dob_year)\n",
      "INFO:dedupe.blocking:Canopy: TfidfNGramCanopyPredicate: (0.8, dob_year)\n",
      "INFO:dedupe.blocking:Canopy: TfidfNGramCanopyPredicate: (0.4, dob_year)\n",
      "INFO:dedupe.blocking:Canopy: TfidfTextCanopyPredicate: (0.4, given_name)\n",
      "INFO:dedupe.blocking:Canopy: TfidfTextCanopyPredicate: (0.6, given_name)\n",
      "INFO:dedupe.blocking:Canopy: TfidfTextCanopyPredicate: (0.2, given_name)\n",
      "INFO:dedupe.blocking:Canopy: TfidfTextCanopyPredicate: (0.8, given_name)\n",
      "INFO:dedupe.blocking:Canopy: LevenshteinCanopyPredicate: (3, given_name)\n",
      "INFO:dedupe.blocking:Canopy: LevenshteinCanopyPredicate: (2, given_name)\n",
      "INFO:dedupe.blocking:Canopy: LevenshteinCanopyPredicate: (1, given_name)\n",
      "INFO:dedupe.blocking:Canopy: LevenshteinCanopyPredicate: (4, given_name)\n",
      "INFO:dedupe.blocking:Canopy: TfidfNGramCanopyPredicate: (0.6, given_name)\n",
      "INFO:dedupe.blocking:Canopy: TfidfNGramCanopyPredicate: (0.2, given_name)\n",
      "INFO:dedupe.blocking:Canopy: TfidfNGramCanopyPredicate: (0.4, given_name)\n",
      "INFO:dedupe.blocking:Canopy: TfidfNGramCanopyPredicate: (0.8, given_name)\n",
      "INFO:dedupe.blocking:Canopy: TfidfTextCanopyPredicate: (0.8, dob_month)\n",
      "INFO:dedupe.blocking:Canopy: TfidfTextCanopyPredicate: (0.4, dob_month)\n",
      "INFO:dedupe.blocking:Canopy: TfidfTextCanopyPredicate: (0.2, dob_month)\n",
      "INFO:dedupe.blocking:Canopy: TfidfTextCanopyPredicate: (0.6, dob_month)\n",
      "INFO:dedupe.blocking:Canopy: LevenshteinCanopyPredicate: (2, dob_month)\n",
      "INFO:dedupe.blocking:Canopy: LevenshteinCanopyPredicate: (4, dob_month)\n",
      "INFO:dedupe.blocking:Canopy: LevenshteinCanopyPredicate: (3, dob_month)\n",
      "INFO:dedupe.blocking:Canopy: LevenshteinCanopyPredicate: (1, dob_month)\n",
      "INFO:dedupe.blocking:Canopy: TfidfNGramCanopyPredicate: (0.8, dob_month)\n",
      "INFO:dedupe.blocking:Canopy: TfidfNGramCanopyPredicate: (0.2, dob_month)\n",
      "INFO:dedupe.blocking:Canopy: TfidfNGramCanopyPredicate: (0.6, dob_month)\n",
      "INFO:dedupe.blocking:Canopy: TfidfNGramCanopyPredicate: (0.4, dob_month)\n",
      "INFO:dedupe.blocking:Canopy: TfidfTextCanopyPredicate: (0.6, middle_name)\n",
      "INFO:dedupe.blocking:Canopy: TfidfTextCanopyPredicate: (0.4, middle_name)\n",
      "INFO:dedupe.blocking:Canopy: TfidfTextCanopyPredicate: (0.2, middle_name)\n",
      "INFO:dedupe.blocking:Canopy: TfidfTextCanopyPredicate: (0.8, middle_name)\n",
      "INFO:dedupe.blocking:Canopy: LevenshteinCanopyPredicate: (4, middle_name)\n",
      "INFO:dedupe.blocking:Canopy: LevenshteinCanopyPredicate: (3, middle_name)\n",
      "INFO:dedupe.blocking:Canopy: LevenshteinCanopyPredicate: (2, middle_name)\n",
      "INFO:dedupe.blocking:Canopy: LevenshteinCanopyPredicate: (1, middle_name)\n",
      "INFO:dedupe.blocking:Canopy: TfidfNGramCanopyPredicate: (0.6, middle_name)\n",
      "INFO:dedupe.blocking:Canopy: TfidfNGramCanopyPredicate: (0.2, middle_name)\n",
      "INFO:dedupe.blocking:Canopy: TfidfNGramCanopyPredicate: (0.4, middle_name)\n",
      "INFO:dedupe.blocking:Canopy: TfidfNGramCanopyPredicate: (0.8, middle_name)\n",
      "INFO:dedupe.blocking:Canopy: TfidfTextCanopyPredicate: (0.2, family_name)\n",
      "INFO:dedupe.blocking:Canopy: TfidfTextCanopyPredicate: (0.4, family_name)\n",
      "INFO:dedupe.blocking:Canopy: TfidfTextCanopyPredicate: (0.8, family_name)\n",
      "INFO:dedupe.blocking:Canopy: TfidfTextCanopyPredicate: (0.6, family_name)\n",
      "INFO:dedupe.blocking:Canopy: LevenshteinCanopyPredicate: (2, family_name)\n",
      "INFO:dedupe.blocking:Canopy: LevenshteinCanopyPredicate: (1, family_name)\n",
      "INFO:dedupe.blocking:Canopy: LevenshteinCanopyPredicate: (4, family_name)\n",
      "INFO:dedupe.blocking:Canopy: LevenshteinCanopyPredicate: (3, family_name)\n",
      "INFO:dedupe.blocking:Canopy: TfidfNGramCanopyPredicate: (0.4, family_name)\n",
      "INFO:dedupe.blocking:Canopy: TfidfNGramCanopyPredicate: (0.8, family_name)\n",
      "INFO:dedupe.blocking:Canopy: TfidfNGramCanopyPredicate: (0.6, family_name)\n",
      "INFO:dedupe.blocking:Canopy: TfidfNGramCanopyPredicate: (0.2, family_name)\n",
      "INFO:dedupe.blocking:Canopy: TfidfTextCanopyPredicate: (0.8, dob_year)\n",
      "INFO:dedupe.blocking:Canopy: TfidfTextCanopyPredicate: (0.6, dob_year)\n",
      "INFO:dedupe.blocking:Canopy: TfidfTextCanopyPredicate: (0.2, dob_year)\n",
      "INFO:dedupe.blocking:Canopy: TfidfTextCanopyPredicate: (0.4, dob_year)\n",
      "INFO:dedupe.blocking:Canopy: LevenshteinCanopyPredicate: (4, dob_year)\n",
      "INFO:dedupe.blocking:Canopy: LevenshteinCanopyPredicate: (1, dob_year)\n",
      "INFO:dedupe.blocking:Canopy: LevenshteinCanopyPredicate: (3, dob_year)\n",
      "INFO:dedupe.blocking:Canopy: LevenshteinCanopyPredicate: (2, dob_year)\n",
      "INFO:dedupe.blocking:Canopy: TfidfNGramCanopyPredicate: (0.2, dob_year)\n",
      "INFO:dedupe.blocking:Canopy: TfidfNGramCanopyPredicate: (0.6, dob_year)\n",
      "INFO:dedupe.blocking:Canopy: TfidfNGramCanopyPredicate: (0.8, dob_year)\n",
      "INFO:dedupe.blocking:Canopy: TfidfNGramCanopyPredicate: (0.4, dob_year)\n",
      "INFO:dedupe.training:Final predicate set:\n",
      "INFO:dedupe.training:(SimplePredicate: (commonThreeTokens, family_name), TfidfTextCanopyPredicate: (0.2, middle_name))\n",
      "INFO:dedupe.training:(SimplePredicate: (commonSixGram, family_name), SimplePredicate: (commonThreeTokens, middle_name))\n",
      "INFO:dedupe.training:(SimplePredicate: (commonTwoTokens, family_name), SimplePredicate: (twoGramFingerprint, family_name))\n",
      "INFO:dedupe.training:(TfidfTextCanopyPredicate: (0.4, family_name), TfidfTextCanopyPredicate: (0.8, middle_name))\n",
      "INFO:dedupe.training:(SimplePredicate: (fingerprint, family_name), TfidfNGramCanopyPredicate: (0.4, dob_month))\n"
     ]
    }
   ],
   "source": [
    "# learn both the classifier and blocking rules\n",
    "# max_comparisons seems to be SUPER important in finding good predicates\n",
    "deduper.train(recall=0.9, maximum_comparisons=1000000000)"
   ]
  },
  {
   "cell_type": "markdown",
   "metadata": {},
   "source": [
    "The blocking rules have now been found, and the classifier has also been trained. The classifier (which determines whether 2 records are the same or not) is an L2 regularized logistic regression. Any model in SK learn with a fit and predict_proba method could be used in its place.\n",
    "\n",
    "Just to demonstrate the inputs to the model, we select 2 records from the inputs:"
   ]
  },
  {
   "cell_type": "code",
   "execution_count": 20,
   "metadata": {
    "collapsed": false
   },
   "outputs": [],
   "source": [
    "record_pairs = ((to_dedupe_dict[0], to_dedupe_dict[1]),)"
   ]
  },
  {
   "cell_type": "markdown",
   "metadata": {},
   "source": [
    "The model features are given by:"
   ]
  },
  {
   "cell_type": "code",
   "execution_count": 21,
   "metadata": {
    "collapsed": false
   },
   "outputs": [
    {
     "name": "stdout",
     "output_type": "stream",
     "text": [
      "[('family_name', <built-in function normalizedAffineGapDistance>, 0, 1), ('given_name', <built-in function normalizedAffineGapDistance>, 1, 2), ('middle_name', <built-in function normalizedAffineGapDistance>, 2, 3), ('dob_year', <built-in function normalizedAffineGapDistance>, 3, 4), ('dob_month', <built-in function normalizedAffineGapDistance>, 4, 5)]\n"
     ]
    }
   ],
   "source": [
    "print(deduper.data_model._field_comparators)"
   ]
  },
  {
   "cell_type": "markdown",
   "metadata": {},
   "source": [
    "And the input values for this particular pair of records by:"
   ]
  },
  {
   "cell_type": "code",
   "execution_count": 22,
   "metadata": {
    "collapsed": false
   },
   "outputs": [
    {
     "name": "stdout",
     "output_type": "stream",
     "text": [
      "[[ 0.5         4.69999981  4.79166651  1.75        5.5       ]]\n"
     ]
    }
   ],
   "source": [
    "print(deduper.data_model.distances(record_pairs=record_pairs))"
   ]
  },
  {
   "cell_type": "markdown",
   "metadata": {},
   "source": [
    "The coefficients in the model itself are given by:"
   ]
  },
  {
   "cell_type": "code",
   "execution_count": 23,
   "metadata": {
    "collapsed": false
   },
   "outputs": [
    {
     "name": "stdout",
     "output_type": "stream",
     "text": [
      "[-11.37927761  -7.32188256  -0.63712457 -14.30634516  -4.50698292]\n"
     ]
    }
   ],
   "source": [
    "print(deduper.classifier.weights)"
   ]
  },
  {
   "cell_type": "markdown",
   "metadata": {},
   "source": [
    "Anyway, after training we can save the data we labelled, as well as the settings for this particular run:"
   ]
  },
  {
   "cell_type": "code",
   "execution_count": 24,
   "metadata": {
    "collapsed": false
   },
   "outputs": [],
   "source": [
    "settings_file = 'dedupe_settings'\n",
    "with open(settings_file, 'wb') as f:\n",
    "    deduper.writeSettings(f)\n",
    "with open(training_file, 'w') as f:\n",
    "    deduper.writeTraining(f)"
   ]
  },
  {
   "cell_type": "markdown",
   "metadata": {},
   "source": [
    "The training finds both the Predicates for creating 'blocks' (or 'canopies' - for a good explanation, see [this](http://www.kamalnigam.com/papers/canopy-kdd00.pdf) excellent paper) and the classifier for actually determining whether two records are referring to the same entity. \n",
    "\n",
    "The [documentation](http://dedupe.readthedocs.io/en/latest/Making-smart-comparisons.html) provides a good overview on why one might want to use blocks/canopies.\n",
    "\n",
    "My understanding is that blocks/canopies are created for every single predicate - in other words, blocks/canopies are created on the entire dataset as many times as there are predicates."
   ]
  },
  {
   "cell_type": "code",
   "execution_count": 25,
   "metadata": {
    "collapsed": false
   },
   "outputs": [
    {
     "data": {
      "text/plain": [
       "((SimplePredicate: (commonThreeTokens, family_name),\n",
       "  TfidfTextCanopyPredicate: (0.2, middle_name)),\n",
       " (SimplePredicate: (commonSixGram, family_name),\n",
       "  SimplePredicate: (commonThreeTokens, middle_name)),\n",
       " (SimplePredicate: (commonTwoTokens, family_name),\n",
       "  SimplePredicate: (twoGramFingerprint, family_name)),\n",
       " (TfidfTextCanopyPredicate: (0.4, family_name),\n",
       "  TfidfTextCanopyPredicate: (0.8, middle_name)),\n",
       " (SimplePredicate: (fingerprint, family_name),\n",
       "  TfidfNGramCanopyPredicate: (0.4, dob_month)))"
      ]
     },
     "execution_count": 25,
     "metadata": {},
     "output_type": "execute_result"
    }
   ],
   "source": [
    "deduper.blocker.predicates"
   ]
  },
  {
   "cell_type": "markdown",
   "metadata": {},
   "source": [
    "Some predicates rely on an 'inverted index', these are the `CanopyPredicates` and the `SearchPredicates`. You can avoid predicates that rely on inverted indexes by setting `index_predicates` to `False` in the `train` method.\n",
    "\n",
    "Inverted indexes are used to \"find the documents where the word X occurs\". Unfortunately it seems quite challenging to print out the inverted index itself to understand exactly what it's doing. Nevermind!\n",
    "\n",
    "Note that canopies are used by predicates that require an inverted index, and blocks are used by simple predicates. The same row can appear in multiple canopies (i.e. canopies can overlap), while the same row only ever appears in one block."
   ]
  },
  {
   "cell_type": "code",
   "execution_count": 26,
   "metadata": {
    "collapsed": false
   },
   "outputs": [
    {
     "name": "stdout",
     "output_type": "stream",
     "text": [
      "dob_month\n",
      "middle_name\n",
      "family_name\n"
     ]
    }
   ],
   "source": [
    "for field in deduper.blocker.index_fields:\n",
    "    print(field)"
   ]
  },
  {
   "cell_type": "markdown",
   "metadata": {
    "collapsed": false
   },
   "source": [
    "With large data sets, the data_sample, training_pairs, training_data, and activeLearner objects are potentially very large memory-wise. This command deletes them to free up said memory."
   ]
  },
  {
   "cell_type": "code",
   "execution_count": 27,
   "metadata": {
    "collapsed": true
   },
   "outputs": [],
   "source": [
    "deduper.cleanupTraining()"
   ]
  },
  {
   "cell_type": "markdown",
   "metadata": {
    "collapsed": false
   },
   "source": [
    "## Storing the raw data in a database\n",
    "\n",
    "For portability, it's convenient to use SQLite, rather than anything bigger and grander requiring a database server. You probably wouldn't want to deal with hundreds of millions or rows like this though!"
   ]
  },
  {
   "cell_type": "code",
   "execution_count": 29,
   "metadata": {
    "collapsed": false
   },
   "outputs": [
    {
     "name": "stdout",
     "output_type": "stream",
     "text": [
      "database 'controlling_entities_dedupe_database.db' already exists. deleting it and starting from scratch!\n"
     ]
    }
   ],
   "source": [
    "database_name = 'controlling_entities_dedupe_database.db'\n",
    "if os.path.exists(database_name):\n",
    "    print(\"database '{}' already exists. deleting it and starting from scratch!\".format(database_name))\n",
    "    os.remove(database_name)\n",
    "\n",
    "conn = lite.connect(database_name)"
   ]
  },
  {
   "cell_type": "markdown",
   "metadata": {},
   "source": [
    "As a reminder, the raw, un-deduplicated data looks like this:"
   ]
  },
  {
   "cell_type": "code",
   "execution_count": 30,
   "metadata": {
    "collapsed": false
   },
   "outputs": [
    {
     "data": {
      "text/html": [
       "<div>\n",
       "<table border=\"1\" class=\"dataframe\">\n",
       "  <thead>\n",
       "    <tr style=\"text-align: right;\">\n",
       "      <th></th>\n",
       "      <th>family_name</th>\n",
       "      <th>given_name</th>\n",
       "      <th>middle_name</th>\n",
       "      <th>dob_year</th>\n",
       "      <th>dob_month</th>\n",
       "    </tr>\n",
       "  </thead>\n",
       "  <tbody>\n",
       "    <tr>\n",
       "      <th>0</th>\n",
       "      <td>White</td>\n",
       "      <td>Mary</td>\n",
       "      <td>Jane Ursula</td>\n",
       "      <td>1961</td>\n",
       "      <td>8</td>\n",
       "    </tr>\n",
       "    <tr>\n",
       "      <th>1</th>\n",
       "      <td>White</td>\n",
       "      <td>Andrew</td>\n",
       "      <td>Gwynne Haydon</td>\n",
       "      <td>1960</td>\n",
       "      <td>2</td>\n",
       "    </tr>\n",
       "    <tr>\n",
       "      <th>7</th>\n",
       "      <td>Cooke</td>\n",
       "      <td>Bernard</td>\n",
       "      <td>Patrick</td>\n",
       "      <td>1939</td>\n",
       "      <td>3</td>\n",
       "    </tr>\n",
       "    <tr>\n",
       "      <th>8</th>\n",
       "      <td>Schofield</td>\n",
       "      <td>Peter</td>\n",
       "      <td>Malcolm</td>\n",
       "      <td>1944</td>\n",
       "      <td>2</td>\n",
       "    </tr>\n",
       "    <tr>\n",
       "      <th>9</th>\n",
       "      <td>Howells</td>\n",
       "      <td>Peter</td>\n",
       "      <td>John</td>\n",
       "      <td>1951</td>\n",
       "      <td>3</td>\n",
       "    </tr>\n",
       "  </tbody>\n",
       "</table>\n",
       "</div>"
      ],
      "text/plain": [
       "  family_name given_name    middle_name dob_year dob_month\n",
       "0       White       Mary    Jane Ursula     1961         8\n",
       "1       White     Andrew  Gwynne Haydon     1960         2\n",
       "7       Cooke    Bernard        Patrick     1939         3\n",
       "8   Schofield      Peter        Malcolm     1944         2\n",
       "9     Howells      Peter           John     1951         3"
      ]
     },
     "execution_count": 30,
     "metadata": {},
     "output_type": "execute_result"
    }
   ],
   "source": [
    "to_dedupe.head()"
   ]
  },
  {
   "cell_type": "markdown",
   "metadata": {},
   "source": [
    "It's convenient to use pandas to create a table in the database. We store the raw data in a table called `actual_data`:"
   ]
  },
  {
   "cell_type": "code",
   "execution_count": 31,
   "metadata": {
    "collapsed": false
   },
   "outputs": [],
   "source": [
    "c1 = conn.cursor()\n",
    "c1.execute(\"DROP TABLE IF EXISTS actual_data\")\n",
    "to_dedupe.to_sql('actual_data', conn, if_exists='fail', index=True, index_label = 'id')\n",
    "c1.close()"
   ]
  },
  {
   "cell_type": "markdown",
   "metadata": {},
   "source": [
    "## Creating inverted indexes for the fields that require it\n",
    "\n",
    "i.e. those which have a CanopyPredicate or SearchPredicate associated with them"
   ]
  },
  {
   "cell_type": "code",
   "execution_count": 32,
   "metadata": {
    "collapsed": false
   },
   "outputs": [
    {
     "data": {
      "text/plain": [
       "defaultdict(<function dedupe.blocking.Blocker.__init__.<locals>.<lambda>>,\n",
       "            {'dob_month': defaultdict(list,\n",
       "                         {'TfidfNGramCanopyPredicate': [TfidfNGramCanopyPredicate: (0.4, dob_month)]}),\n",
       "             'family_name': defaultdict(list,\n",
       "                         {'TfidfTextCanopyPredicate': [TfidfTextCanopyPredicate: (0.4, family_name)]}),\n",
       "             'middle_name': defaultdict(list,\n",
       "                         {'TfidfTextCanopyPredicate': [TfidfTextCanopyPredicate: (0.2, middle_name),\n",
       "                           TfidfTextCanopyPredicate: (0.8, middle_name)]})})"
      ]
     },
     "execution_count": 32,
     "metadata": {},
     "output_type": "execute_result"
    }
   ],
   "source": [
    "# A dictionary of the Index Predicates that will used for blocking. \n",
    "# The keys are the fields the predicates will operate on.\n",
    "deduper.blocker.index_fields"
   ]
  },
  {
   "cell_type": "code",
   "execution_count": 33,
   "metadata": {
    "collapsed": false,
    "scrolled": true
   },
   "outputs": [
    {
     "name": "stdout",
     "output_type": "stream",
     "text": [
      "creating inverted index on: dob_month\n"
     ]
    },
    {
     "name": "stderr",
     "output_type": "stream",
     "text": [
      "INFO:dedupe.blocking:Canopy: TfidfNGramCanopyPredicate: (0.4, dob_month)\n"
     ]
    },
    {
     "name": "stdout",
     "output_type": "stream",
     "text": [
      "creating inverted index on: middle_name\n"
     ]
    },
    {
     "name": "stderr",
     "output_type": "stream",
     "text": [
      "INFO:dedupe.blocking:Canopy: TfidfTextCanopyPredicate: (0.2, middle_name)\n",
      "INFO:dedupe.blocking:Canopy: TfidfTextCanopyPredicate: (0.8, middle_name)\n"
     ]
    },
    {
     "name": "stdout",
     "output_type": "stream",
     "text": [
      "creating inverted index on: family_name\n"
     ]
    },
    {
     "name": "stderr",
     "output_type": "stream",
     "text": [
      "INFO:dedupe.blocking:Canopy: TfidfTextCanopyPredicate: (0.4, family_name)\n"
     ]
    }
   ],
   "source": [
    "# this does not add an index if there are no canopy predicates in the index_fields\n",
    "c3 = conn.cursor()\n",
    "for field in deduper.blocker.index_fields:\n",
    "    print('creating inverted index on: ' + field)\n",
    "    c3.execute(\"SELECT DISTINCT {field} FROM actual_data \"\n",
    "               \"WHERE {field} IS NOT NULL\".format(field = field))\n",
    "    field_data = (row[0] for row in c3)\n",
    "    # Indexes the data from a field for use in an index predicate/canopy\n",
    "    # This goes through row-by-row\n",
    "    deduper.blocker.index(field_data, field)\n",
    "\n",
    "c3.close()"
   ]
  },
  {
   "cell_type": "markdown",
   "metadata": {},
   "source": [
    "## Creating the blocks/canopies\n",
    "\n",
    "Start by creating the (empty) table in the database that will contain the mapping between the blocks and the row_ids."
   ]
  },
  {
   "cell_type": "code",
   "execution_count": 34,
   "metadata": {
    "collapsed": false
   },
   "outputs": [],
   "source": [
    "c2 = conn.cursor()\n",
    "c2.execute(\"DROP TABLE IF EXISTS blocking_map\")\n",
    "c2.execute(\"CREATE TABLE blocking_map \"\n",
    "          \"(block_key VARCHAR(200), id INTEGER) \")\n",
    "c2.close()"
   ]
  },
  {
   "cell_type": "code",
   "execution_count": 35,
   "metadata": {
    "collapsed": false
   },
   "outputs": [
    {
     "name": "stdout",
     "output_type": "stream",
     "text": [
      "writing blocking map\n"
     ]
    }
   ],
   "source": [
    "SELECT_STATEMENT = \"SELECT id, family_name, given_name, middle_name, \" \\\n",
    "                   \"dob_year, dob_month FROM actual_data\"\n",
    "\n",
    "c4 = conn.cursor()\n",
    "print('writing blocking map')\n",
    "c4.execute(SELECT_STATEMENT)\n",
    "# the data should be fed to the blocker as an iterable of the form:\n",
    "# data = [(1, {'name' : 'bob'}), (2, {'name' : 'suzanne'}), ... ]\n",
    "full_data = ((row[0], {'id': row[0],\n",
    "                       'family_name' : row[1],\n",
    "                       'given_name' : row[2],\n",
    "                       'middle_name' : row[3],\n",
    "                       'dob_year' : row[4],\n",
    "                       'dob_month' : row[5]}) for row in c4)\n",
    "# Generate the predicates for records. Yields tuples of (predicate, record_id)\n",
    "b_data = deduper.blocker(full_data)\n",
    "# b_data has the form:\n",
    "# [('foo:1', 1), ..., ('bar:1', 100)]"
   ]
  },
  {
   "cell_type": "code",
   "execution_count": 36,
   "metadata": {
    "collapsed": false,
    "scrolled": false
   },
   "outputs": [
    {
     "name": "stderr",
     "output_type": "stream",
     "text": [
      "INFO:dedupe.blocking:10000, 0.8866982 seconds\n",
      "INFO:dedupe.blocking:20000, 1.6555902 seconds\n",
      "INFO:dedupe.blocking:30000, 2.4064102 seconds\n",
      "INFO:dedupe.blocking:40000, 3.1403292 seconds\n",
      "INFO:dedupe.blocking:50000, 3.8846132 seconds\n",
      "INFO:dedupe.blocking:60000, 4.6088152 seconds\n",
      "INFO:dedupe.blocking:70000, 5.3391912 seconds\n",
      "INFO:dedupe.blocking:80000, 6.0645912 seconds\n",
      "INFO:dedupe.blocking:90000, 6.7555952 seconds\n",
      "INFO:dedupe.blocking:100000, 7.4369202 seconds\n",
      "INFO:dedupe.blocking:110000, 8.1320572 seconds\n",
      "INFO:dedupe.blocking:120000, 8.8197112 seconds\n",
      "INFO:dedupe.blocking:130000, 9.5520212 seconds\n",
      "INFO:dedupe.blocking:140000, 10.3426402 seconds\n",
      "INFO:dedupe.blocking:150000, 11.1764612 seconds\n",
      "INFO:dedupe.blocking:160000, 12.0623922 seconds\n",
      "INFO:dedupe.blocking:170000, 12.9916722 seconds\n",
      "INFO:dedupe.blocking:180000, 13.9297212 seconds\n",
      "INFO:dedupe.blocking:190000, 14.8699092 seconds\n",
      "INFO:dedupe.blocking:200000, 15.7996292 seconds\n",
      "INFO:dedupe.blocking:210000, 16.5510012 seconds\n",
      "INFO:dedupe.blocking:220000, 17.2484762 seconds\n",
      "INFO:dedupe.blocking:230000, 17.9182622 seconds\n",
      "INFO:dedupe.blocking:240000, 18.6009632 seconds\n",
      "INFO:dedupe.blocking:250000, 19.2736792 seconds\n",
      "INFO:dedupe.blocking:260000, 19.9467552 seconds\n",
      "INFO:dedupe.blocking:270000, 20.6309332 seconds\n",
      "INFO:dedupe.blocking:280000, 21.2957982 seconds\n",
      "INFO:dedupe.blocking:290000, 21.9544192 seconds\n",
      "INFO:dedupe.blocking:300000, 22.6275562 seconds\n",
      "INFO:dedupe.blocking:310000, 23.4300932 seconds\n",
      "INFO:dedupe.blocking:320000, 24.1403062 seconds\n",
      "INFO:dedupe.blocking:330000, 24.8197872 seconds\n",
      "INFO:dedupe.blocking:340000, 25.4823882 seconds\n",
      "INFO:dedupe.blocking:350000, 26.1421512 seconds\n",
      "INFO:dedupe.blocking:360000, 26.8031332 seconds\n",
      "INFO:dedupe.blocking:370000, 27.4551432 seconds\n",
      "INFO:dedupe.blocking:380000, 28.1198822 seconds\n",
      "INFO:dedupe.blocking:390000, 28.7666722 seconds\n",
      "INFO:dedupe.blocking:400000, 29.4340742 seconds\n",
      "INFO:dedupe.blocking:410000, 30.0859422 seconds\n",
      "INFO:dedupe.blocking:420000, 30.7262992 seconds\n",
      "INFO:dedupe.blocking:430000, 31.3874802 seconds\n",
      "INFO:dedupe.blocking:440000, 32.0366312 seconds\n",
      "INFO:dedupe.blocking:450000, 32.7143132 seconds\n",
      "INFO:dedupe.blocking:460000, 33.3956372 seconds\n",
      "INFO:dedupe.blocking:470000, 34.1253152 seconds\n",
      "INFO:dedupe.blocking:480000, 34.8132422 seconds\n",
      "INFO:dedupe.blocking:490000, 35.4847342 seconds\n",
      "INFO:dedupe.blocking:500000, 36.1423512 seconds\n",
      "INFO:dedupe.blocking:510000, 36.7974212 seconds\n",
      "INFO:dedupe.blocking:520000, 37.4679592 seconds\n",
      "INFO:dedupe.blocking:530000, 38.1166822 seconds\n",
      "INFO:dedupe.blocking:540000, 38.8171572 seconds\n",
      "INFO:dedupe.blocking:550000, 39.5315302 seconds\n",
      "INFO:dedupe.blocking:560000, 40.2375672 seconds\n",
      "INFO:dedupe.blocking:570000, 40.9275792 seconds\n",
      "INFO:dedupe.blocking:580000, 41.7327812 seconds\n",
      "INFO:dedupe.blocking:590000, 42.4457382 seconds\n",
      "INFO:dedupe.blocking:600000, 43.1246422 seconds\n",
      "INFO:dedupe.blocking:610000, 43.7684642 seconds\n",
      "INFO:dedupe.blocking:620000, 44.5120412 seconds\n",
      "INFO:dedupe.blocking:630000, 45.2681682 seconds\n",
      "INFO:dedupe.blocking:640000, 45.9224352 seconds\n",
      "INFO:dedupe.blocking:650000, 46.5498092 seconds\n",
      "INFO:dedupe.blocking:660000, 47.2548972 seconds\n",
      "INFO:dedupe.blocking:670000, 48.0567672 seconds\n",
      "INFO:dedupe.blocking:680000, 48.7506512 seconds\n",
      "INFO:dedupe.blocking:690000, 49.6441622 seconds\n",
      "INFO:dedupe.blocking:700000, 50.6131992 seconds\n"
     ]
    }
   ],
   "source": [
    "# b_data is a generator so will yield output as looped over\n",
    "c5 = conn.cursor()\n",
    "for row in b_data:\n",
    "    c5.execute(\"INSERT INTO blocking_map (block_key, id) VALUES ('{block_key}',{id})\".\\\n",
    "               format(block_key=row[0],id=row[1]))\n",
    "c5.close()\n",
    "c4.close()\n",
    "conn.commit()"
   ]
  },
  {
   "cell_type": "markdown",
   "metadata": {},
   "source": [
    "The blocking_map actually looks like the following:"
   ]
  },
  {
   "cell_type": "code",
   "execution_count": 37,
   "metadata": {
    "collapsed": false,
    "scrolled": true
   },
   "outputs": [
    {
     "data": {
      "text/html": [
       "<div>\n",
       "<table border=\"1\" class=\"dataframe\">\n",
       "  <thead>\n",
       "    <tr style=\"text-align: right;\">\n",
       "      <th></th>\n",
       "      <th>block_key</th>\n",
       "      <th>id</th>\n",
       "    </tr>\n",
       "  </thead>\n",
       "  <tbody>\n",
       "    <tr>\n",
       "      <th>0</th>\n",
       "      <td>471:299:3</td>\n",
       "      <td>0</td>\n",
       "    </tr>\n",
       "    <tr>\n",
       "      <th>1</th>\n",
       "      <td>471:300:3</td>\n",
       "      <td>1</td>\n",
       "    </tr>\n",
       "    <tr>\n",
       "      <th>2</th>\n",
       "      <td>814:206:3</td>\n",
       "      <td>7</td>\n",
       "    </tr>\n",
       "    <tr>\n",
       "      <th>3</th>\n",
       "      <td>217:301:3</td>\n",
       "      <td>8</td>\n",
       "    </tr>\n",
       "    <tr>\n",
       "      <th>4</th>\n",
       "      <td>815:131:3</td>\n",
       "      <td>9</td>\n",
       "    </tr>\n",
       "  </tbody>\n",
       "</table>\n",
       "</div>"
      ],
      "text/plain": [
       "   block_key  id\n",
       "0  471:299:3   0\n",
       "1  471:300:3   1\n",
       "2  814:206:3   7\n",
       "3  217:301:3   8\n",
       "4  815:131:3   9"
      ]
     },
     "execution_count": 37,
     "metadata": {},
     "output_type": "execute_result"
    }
   ],
   "source": [
    "# How well has the blocking worked? check that there are not loads of blocks with single counts\n",
    "blocking_map_df = pd.read_sql(\"SELECT * FROM blocking_map\", conn)\n",
    "blocking_map_df.head()"
   ]
  },
  {
   "cell_type": "markdown",
   "metadata": {},
   "source": [
    "Conceptually, you can think of the blocks/canopies as looking something like this (note that you end up with this situation for each Predicate dedupe finds): \n",
    "\n",
    "<img src=\"../diagrams/blocking_map.png\",width=400,height=400, style=\"float: left;\">"
   ]
  },
  {
   "cell_type": "markdown",
   "metadata": {},
   "source": [
    "And here is a list of the ten largest blocks:"
   ]
  },
  {
   "cell_type": "code",
   "execution_count": 38,
   "metadata": {
    "collapsed": false
   },
   "outputs": [
    {
     "data": {
      "text/plain": [
       "block_key\n",
       "Valaitis:3:4    668\n",
       "Smith:4:4       470\n",
       "Smith:1:4       459\n",
       "3591:233:3      448\n",
       "Smith:3:4       419\n",
       "Jones:1:4       347\n",
       "Jones:4:4       346\n",
       "Jones:3:4       306\n",
       "75:663:3        297\n",
       "75:19:3         291\n",
       "Name: block_key, dtype: int64"
      ]
     },
     "execution_count": 38,
     "metadata": {},
     "output_type": "execute_result"
    }
   ],
   "source": [
    "blocking_map_df.groupby('block_key')['block_key'].agg('count').sort_values(ascending = False).head(10)"
   ]
  },
  {
   "cell_type": "markdown",
   "metadata": {},
   "source": [
    "Note - when rows do not fall into any block they are excluded (because they can only be singletons), so the length of the `blocking_map` might be shorter than the overall data.\n",
    "\n",
    "It may, of course, also be longer as the same row can appear in multiple blocks/canopies."
   ]
  },
  {
   "cell_type": "code",
   "execution_count": 39,
   "metadata": {
    "collapsed": false
   },
   "outputs": [
    {
     "name": "stdout",
     "output_type": "stream",
     "text": [
      "570464\n",
      "706151\n"
     ]
    }
   ],
   "source": [
    "print(len(blocking_map_df))\n",
    "print(len(to_dedupe))"
   ]
  },
  {
   "cell_type": "markdown",
   "metadata": {},
   "source": [
    "If we merge the blocking map back onto the original data, we can see what has been lumped together:"
   ]
  },
  {
   "cell_type": "code",
   "execution_count": 40,
   "metadata": {
    "collapsed": true
   },
   "outputs": [],
   "source": [
    "merged = pd.merge(blocking_map_df, to_dedupe, left_on = 'id', right_index = True, how = 'right')"
   ]
  },
  {
   "cell_type": "code",
   "execution_count": 41,
   "metadata": {
    "collapsed": false
   },
   "outputs": [
    {
     "data": {
      "text/html": [
       "<div>\n",
       "<table border=\"1\" class=\"dataframe\">\n",
       "  <thead>\n",
       "    <tr style=\"text-align: right;\">\n",
       "      <th></th>\n",
       "      <th>block_key</th>\n",
       "      <th>id</th>\n",
       "      <th>family_name</th>\n",
       "      <th>given_name</th>\n",
       "      <th>middle_name</th>\n",
       "      <th>dob_year</th>\n",
       "      <th>dob_month</th>\n",
       "    </tr>\n",
       "  </thead>\n",
       "  <tbody>\n",
       "    <tr>\n",
       "      <th>526870</th>\n",
       "      <td>02893324178:3:4</td>\n",
       "      <td>699883</td>\n",
       "      <td>02893324178</td>\n",
       "      <td>Derek</td>\n",
       "      <td>Higgins</td>\n",
       "      <td>1949</td>\n",
       "      <td>11</td>\n",
       "    </tr>\n",
       "    <tr>\n",
       "      <th>255126</th>\n",
       "      <td>08022036:4:4</td>\n",
       "      <td>320653</td>\n",
       "      <td>08022036</td>\n",
       "      <td>Nicola</td>\n",
       "      <td>None</td>\n",
       "      <td>1968</td>\n",
       "      <td>10</td>\n",
       "    </tr>\n",
       "    <tr>\n",
       "      <th>137923</th>\n",
       "      <td>0Brien:1:4</td>\n",
       "      <td>171840</td>\n",
       "      <td>0'Brien</td>\n",
       "      <td>Ivana</td>\n",
       "      <td>Maria</td>\n",
       "      <td>1962</td>\n",
       "      <td>12</td>\n",
       "    </tr>\n",
       "    <tr>\n",
       "      <th>443993</th>\n",
       "      <td>100003:36449:3</td>\n",
       "      <td>572372</td>\n",
       "      <td>Semerean</td>\n",
       "      <td>Ovidiu</td>\n",
       "      <td>Severian</td>\n",
       "      <td>1976</td>\n",
       "      <td>11</td>\n",
       "    </tr>\n",
       "    <tr>\n",
       "      <th>274820</th>\n",
       "      <td>10000:264:3</td>\n",
       "      <td>346236</td>\n",
       "      <td>Meachin</td>\n",
       "      <td>Robert</td>\n",
       "      <td>James</td>\n",
       "      <td>1982</td>\n",
       "      <td>5</td>\n",
       "    </tr>\n",
       "  </tbody>\n",
       "</table>\n",
       "</div>"
      ],
      "text/plain": [
       "              block_key      id  family_name given_name middle_name dob_year  \\\n",
       "526870  02893324178:3:4  699883  02893324178      Derek     Higgins     1949   \n",
       "255126     08022036:4:4  320653     08022036     Nicola        None     1968   \n",
       "137923       0Brien:1:4  171840      0'Brien      Ivana       Maria     1962   \n",
       "443993   100003:36449:3  572372     Semerean     Ovidiu    Severian     1976   \n",
       "274820      10000:264:3  346236      Meachin     Robert       James     1982   \n",
       "\n",
       "       dob_month  \n",
       "526870        11  \n",
       "255126        10  \n",
       "137923        12  \n",
       "443993        11  \n",
       "274820         5  "
      ]
     },
     "execution_count": 41,
     "metadata": {},
     "output_type": "execute_result"
    }
   ],
   "source": [
    "merged.sort_values(by='block_key').head()"
   ]
  },
  {
   "cell_type": "code",
   "execution_count": 42,
   "metadata": {
    "collapsed": false
   },
   "outputs": [
    {
     "data": {
      "text/html": [
       "<div>\n",
       "<table border=\"1\" class=\"dataframe\">\n",
       "  <thead>\n",
       "    <tr style=\"text-align: right;\">\n",
       "      <th></th>\n",
       "      <th>block_key</th>\n",
       "      <th>id</th>\n",
       "      <th>family_name</th>\n",
       "      <th>given_name</th>\n",
       "      <th>middle_name</th>\n",
       "      <th>dob_year</th>\n",
       "      <th>dob_month</th>\n",
       "    </tr>\n",
       "  </thead>\n",
       "  <tbody>\n",
       "    <tr>\n",
       "      <th>187114</th>\n",
       "      <td>42572:35:3</td>\n",
       "      <td>233786</td>\n",
       "      <td>Loch</td>\n",
       "      <td>Pamela</td>\n",
       "      <td>Ann</td>\n",
       "      <td>1967</td>\n",
       "      <td>1</td>\n",
       "    </tr>\n",
       "    <tr>\n",
       "      <th>373228</th>\n",
       "      <td>42572:35:3</td>\n",
       "      <td>477017</td>\n",
       "      <td>Loch</td>\n",
       "      <td>Pamela</td>\n",
       "      <td>Ann</td>\n",
       "      <td>1967</td>\n",
       "      <td>1</td>\n",
       "    </tr>\n",
       "    <tr>\n",
       "      <th>512293</th>\n",
       "      <td>42572:35:3</td>\n",
       "      <td>677794</td>\n",
       "      <td>Loch</td>\n",
       "      <td>Pam</td>\n",
       "      <td>Ann</td>\n",
       "      <td>1967</td>\n",
       "      <td>1</td>\n",
       "    </tr>\n",
       "    <tr>\n",
       "      <th>536487</th>\n",
       "      <td>42572:18:3</td>\n",
       "      <td>713316</td>\n",
       "      <td>Loch</td>\n",
       "      <td>Elizabeth</td>\n",
       "      <td>Mary</td>\n",
       "      <td>1963</td>\n",
       "      <td>2</td>\n",
       "    </tr>\n",
       "    <tr>\n",
       "      <th>570463</th>\n",
       "      <td>NaN</td>\n",
       "      <td>237119</td>\n",
       "      <td>Loch</td>\n",
       "      <td>Richard</td>\n",
       "      <td>None</td>\n",
       "      <td>1968</td>\n",
       "      <td>8</td>\n",
       "    </tr>\n",
       "    <tr>\n",
       "      <th>570463</th>\n",
       "      <td>NaN</td>\n",
       "      <td>759367</td>\n",
       "      <td>Loch</td>\n",
       "      <td>Pam</td>\n",
       "      <td>None</td>\n",
       "      <td>1967</td>\n",
       "      <td>1</td>\n",
       "    </tr>\n",
       "  </tbody>\n",
       "</table>\n",
       "</div>"
      ],
      "text/plain": [
       "         block_key      id family_name given_name middle_name dob_year  \\\n",
       "187114  42572:35:3  233786        Loch     Pamela         Ann     1967   \n",
       "373228  42572:35:3  477017        Loch     Pamela         Ann     1967   \n",
       "512293  42572:35:3  677794        Loch        Pam         Ann     1967   \n",
       "536487  42572:18:3  713316        Loch  Elizabeth        Mary     1963   \n",
       "570463         NaN  237119        Loch    Richard        None     1968   \n",
       "570463         NaN  759367        Loch        Pam        None     1967   \n",
       "\n",
       "       dob_month  \n",
       "187114         1  \n",
       "373228         1  \n",
       "512293         1  \n",
       "536487         2  \n",
       "570463         8  \n",
       "570463         1  "
      ]
     },
     "execution_count": 42,
     "metadata": {},
     "output_type": "execute_result"
    }
   ],
   "source": [
    "merged[merged.family_name == 'Loch']"
   ]
  },
  {
   "cell_type": "markdown",
   "metadata": {},
   "source": [
    "Finally, we create an index on the `block_key` for faster queries, and free up memory used by the inverted indexes:"
   ]
  },
  {
   "cell_type": "code",
   "execution_count": 43,
   "metadata": {
    "collapsed": false
   },
   "outputs": [
    {
     "name": "stderr",
     "output_type": "stream",
     "text": [
      "INFO:root:indexing block_key\n"
     ]
    },
    {
     "data": {
      "text/plain": [
       "<sqlite3.Cursor at 0x1358b8500>"
      ]
     },
     "execution_count": 43,
     "metadata": {},
     "output_type": "execute_result"
    }
   ],
   "source": [
    "c = conn.cursor()\n",
    "logging.info(\"indexing block_key\")\n",
    "c.execute(\"CREATE INDEX blocking_map_key_idx ON blocking_map (block_key)\")"
   ]
  },
  {
   "cell_type": "code",
   "execution_count": 44,
   "metadata": {
    "collapsed": true
   },
   "outputs": [],
   "source": [
    "deduper.blocker.resetIndices()"
   ]
  },
  {
   "cell_type": "markdown",
   "metadata": {},
   "source": [
    "## SQL manipulations to prepare blocks for matching\n",
    "\n",
    "The next steps require some data manipulations to prepare the blocks into the format required by the `matchBlocks` method. See the `matchBlocks` section in the [documentation](https://dedupe.readthedocs.io/en/latest/API-documentation.html#dedupe-objects) for exactly what that format is.\n",
    "\n",
    "A MySQL version of these steps can be found [here](http://datamade.github.io/dedupe-examples/docs/mysql_example.html#section-26)."
   ]
  },
  {
   "cell_type": "markdown",
   "metadata": {},
   "source": [
    "These are the tables that we will be created shortly:"
   ]
  },
  {
   "cell_type": "code",
   "execution_count": 45,
   "metadata": {
    "collapsed": false
   },
   "outputs": [
    {
     "data": {
      "text/plain": [
       "<sqlite3.Cursor at 0x1358b8500>"
      ]
     },
     "execution_count": 45,
     "metadata": {},
     "output_type": "execute_result"
    }
   ],
   "source": [
    "c.execute(\"DROP TABLE IF EXISTS plural_key\")\n",
    "c.execute(\"DROP TABLE IF EXISTS plural_block\")\n",
    "c.execute(\"DROP TABLE IF EXISTS covered_blocks\")\n",
    "c.execute(\"DROP TABLE IF EXISTS smaller_coverage\")"
   ]
  },
  {
   "cell_type": "markdown",
   "metadata": {},
   "source": [
    "### Plural Key table\n",
    "\n",
    "Here, the block_keys (which are fairly long varchar types) are reassigned an integer id, imaginatively called block_id. Further, if one block_key forms identical blocks, we only keep one of them. Further further, we only keep blocks that have more than one record in them (as that record is obviously not going to be matched to another record) - this is why the word 'plural' is used!"
   ]
  },
  {
   "cell_type": "code",
   "execution_count": 46,
   "metadata": {
    "collapsed": false
   },
   "outputs": [
    {
     "name": "stderr",
     "output_type": "stream",
     "text": [
      "INFO:root:calculating plural_key\n"
     ]
    },
    {
     "data": {
      "text/plain": [
       "<sqlite3.Cursor at 0x1358b8500>"
      ]
     },
     "execution_count": 46,
     "metadata": {},
     "output_type": "execute_result"
    }
   ],
   "source": [
    "logging.info(\"calculating plural_key\")\n",
    "c.execute(\" DROP TABLE IF EXISTS plural_key\")\n",
    "c.execute(\"CREATE TABLE plural_key \"\n",
    "          \"(block_key VARCHAR(200), \"\n",
    "          \" block_id INTEGER PRIMARY KEY AUTOINCREMENT)  \")"
   ]
  },
  {
   "cell_type": "code",
   "execution_count": 47,
   "metadata": {
    "collapsed": false
   },
   "outputs": [
    {
     "data": {
      "text/plain": [
       "<sqlite3.Cursor at 0x1358b8500>"
      ]
     },
     "execution_count": 47,
     "metadata": {},
     "output_type": "execute_result"
    }
   ],
   "source": [
    "c.execute(\" INSERT INTO plural_key (block_key) \"\n",
    "          \" SELECT MIN(block_key) FROM \"\n",
    "          \"    (SELECT block_key, GROUP_CONCAT(id) AS block FROM \"\n",
    "          \"       (SELECT block_key, id FROM blocking_map ORDER BY block_key, id) AS a \"\n",
    "          \"    GROUP BY block_key \"\n",
    "          \"    HAVING COUNT(*) > 1) AS b \"\n",
    "          \" GROUP BY block  \")"
   ]
  },
  {
   "cell_type": "markdown",
   "metadata": {},
   "source": [
    "... and this is what `plural_key` actually looks like:"
   ]
  },
  {
   "cell_type": "code",
   "execution_count": 48,
   "metadata": {
    "collapsed": false
   },
   "outputs": [
    {
     "data": {
      "text/html": [
       "<div>\n",
       "<table border=\"1\" class=\"dataframe\">\n",
       "  <thead>\n",
       "    <tr style=\"text-align: right;\">\n",
       "      <th></th>\n",
       "      <th>block_key</th>\n",
       "      <th>block_id</th>\n",
       "    </tr>\n",
       "  </thead>\n",
       "  <tbody>\n",
       "    <tr>\n",
       "      <th>0</th>\n",
       "      <td>471:299:3</td>\n",
       "      <td>1</td>\n",
       "    </tr>\n",
       "    <tr>\n",
       "      <th>1</th>\n",
       "      <td>471:300:3</td>\n",
       "      <td>2</td>\n",
       "    </tr>\n",
       "    <tr>\n",
       "      <th>2</th>\n",
       "      <td>Osborne:4:4</td>\n",
       "      <td>3</td>\n",
       "    </tr>\n",
       "    <tr>\n",
       "      <th>3</th>\n",
       "      <td>Folan:1:4</td>\n",
       "      <td>4</td>\n",
       "    </tr>\n",
       "    <tr>\n",
       "      <th>4</th>\n",
       "      <td>Folan:3:4</td>\n",
       "      <td>5</td>\n",
       "    </tr>\n",
       "  </tbody>\n",
       "</table>\n",
       "</div>"
      ],
      "text/plain": [
       "     block_key  block_id\n",
       "0    471:299:3         1\n",
       "1    471:300:3         2\n",
       "2  Osborne:4:4         3\n",
       "3    Folan:1:4         4\n",
       "4    Folan:3:4         5"
      ]
     },
     "execution_count": 48,
     "metadata": {},
     "output_type": "execute_result"
    }
   ],
   "source": [
    "plural_key_df = pd.read_sql(\"SELECT * FROM plural_key\", conn)\n",
    "plural_key_df.head()"
   ]
  },
  {
   "cell_type": "markdown",
   "metadata": {},
   "source": [
    "The length of `plural_key` is the number of blocks within which records will be matched later:"
   ]
  },
  {
   "cell_type": "code",
   "execution_count": 49,
   "metadata": {
    "collapsed": false
   },
   "outputs": [
    {
     "name": "stdout",
     "output_type": "stream",
     "text": [
      "66318\n"
     ]
    }
   ],
   "source": [
    "print(len(plural_key_df))"
   ]
  },
  {
   "cell_type": "markdown",
   "metadata": {
    "collapsed": true
   },
   "source": [
    "As a sanity check, there should be no duplicated rows in `plural_key`:"
   ]
  },
  {
   "cell_type": "code",
   "execution_count": 50,
   "metadata": {
    "collapsed": false
   },
   "outputs": [
    {
     "name": "stdout",
     "output_type": "stream",
     "text": [
      "no duplicated rows in plural_key\n"
     ]
    }
   ],
   "source": [
    "try:\n",
    "    assert len(plural_key_df[plural_key_df.duplicated(keep = False)]) == 0\n",
    "    print(\"no duplicated rows in plural_key\")\n",
    "except AssertionError:\n",
    "    print(\"somehow duplicated rows have crept into plural_key - fix before continuing!!\")"
   ]
  },
  {
   "cell_type": "markdown",
   "metadata": {},
   "source": [
    "And finally we index the table appropriately:"
   ]
  },
  {
   "cell_type": "code",
   "execution_count": 51,
   "metadata": {
    "collapsed": false
   },
   "outputs": [
    {
     "name": "stderr",
     "output_type": "stream",
     "text": [
      "INFO:root:creating block_key index\n"
     ]
    },
    {
     "data": {
      "text/plain": [
       "<sqlite3.Cursor at 0x1358b8500>"
      ]
     },
     "execution_count": 51,
     "metadata": {},
     "output_type": "execute_result"
    }
   ],
   "source": [
    "logging.info(\"creating block_key index\")\n",
    "c.execute(\"CREATE UNIQUE INDEX block_key_idx ON plural_key (block_key)\")"
   ]
  },
  {
   "cell_type": "markdown",
   "metadata": {},
   "source": [
    "### Plural Block table\n",
    "\n",
    "This simply links `block_id` calculated in `plural_key` above back to the records that each block contains (as represented by `id`)."
   ]
  },
  {
   "cell_type": "code",
   "execution_count": 52,
   "metadata": {
    "collapsed": false
   },
   "outputs": [
    {
     "name": "stderr",
     "output_type": "stream",
     "text": [
      "INFO:root:calculating plural_block\n"
     ]
    },
    {
     "data": {
      "text/plain": [
       "<sqlite3.Cursor at 0x1358b8500>"
      ]
     },
     "execution_count": 52,
     "metadata": {},
     "output_type": "execute_result"
    }
   ],
   "source": [
    "logging.info(\"calculating plural_block\")\n",
    "c.execute(\" DROP TABLE IF EXISTS plural_block \")\n",
    "c.execute(\" CREATE TABLE plural_block AS \"\n",
    "          \" SELECT block_id, id \"\n",
    "          \" FROM blocking_map AS a \"\n",
    "          \" INNER JOIN plural_key AS b \"\n",
    "          \" ON a.block_key = b.block_key \"\n",
    "          \" ORDER BY block_id, id\")"
   ]
  },
  {
   "cell_type": "code",
   "execution_count": 53,
   "metadata": {
    "collapsed": false
   },
   "outputs": [
    {
     "data": {
      "text/html": [
       "<div>\n",
       "<table border=\"1\" class=\"dataframe\">\n",
       "  <thead>\n",
       "    <tr style=\"text-align: right;\">\n",
       "      <th></th>\n",
       "      <th>block_id</th>\n",
       "      <th>id</th>\n",
       "    </tr>\n",
       "  </thead>\n",
       "  <tbody>\n",
       "    <tr>\n",
       "      <th>0</th>\n",
       "      <td>1</td>\n",
       "      <td>0</td>\n",
       "    </tr>\n",
       "    <tr>\n",
       "      <th>1</th>\n",
       "      <td>1</td>\n",
       "      <td>605691</td>\n",
       "    </tr>\n",
       "    <tr>\n",
       "      <th>2</th>\n",
       "      <td>2</td>\n",
       "      <td>1</td>\n",
       "    </tr>\n",
       "    <tr>\n",
       "      <th>3</th>\n",
       "      <td>2</td>\n",
       "      <td>605692</td>\n",
       "    </tr>\n",
       "    <tr>\n",
       "      <th>4</th>\n",
       "      <td>3</td>\n",
       "      <td>1000</td>\n",
       "    </tr>\n",
       "  </tbody>\n",
       "</table>\n",
       "</div>"
      ],
      "text/plain": [
       "   block_id      id\n",
       "0         1       0\n",
       "1         1  605691\n",
       "2         2       1\n",
       "3         2  605692\n",
       "4         3    1000"
      ]
     },
     "execution_count": 53,
     "metadata": {},
     "output_type": "execute_result"
    }
   ],
   "source": [
    "plural_block_df = pd.read_sql(\"SELECT * FROM plural_block\", conn)\n",
    "plural_block_df.head()"
   ]
  },
  {
   "cell_type": "code",
   "execution_count": 54,
   "metadata": {
    "collapsed": false
   },
   "outputs": [
    {
     "name": "stdout",
     "output_type": "stream",
     "text": [
      "294466\n"
     ]
    }
   ],
   "source": [
    "print(len(plural_block_df))"
   ]
  },
  {
   "cell_type": "code",
   "execution_count": 55,
   "metadata": {
    "collapsed": false
   },
   "outputs": [
    {
     "name": "stdout",
     "output_type": "stream",
     "text": [
      "no duplicated rows in plural_block\n"
     ]
    }
   ],
   "source": [
    "try:\n",
    "    assert len(plural_block_df[plural_block_df.duplicated(keep = False)]) == 0\n",
    "    print(\"no duplicated rows in plural_block\")\n",
    "except AssertionError:\n",
    "    print(\"somehow duplicated rows have crept into plural_block - fix before continuing!!\")"
   ]
  },
  {
   "cell_type": "code",
   "execution_count": 56,
   "metadata": {
    "collapsed": false
   },
   "outputs": [
    {
     "name": "stderr",
     "output_type": "stream",
     "text": [
      "INFO:root:adding id index and sorting index\n"
     ]
    },
    {
     "data": {
      "text/plain": [
       "<sqlite3.Cursor at 0x1358b8500>"
      ]
     },
     "execution_count": 56,
     "metadata": {},
     "output_type": "execute_result"
    }
   ],
   "source": [
    "logging.info(\"adding id index and sorting index\")\n",
    "c.execute(\"CREATE INDEX plural_block_id_idx ON plural_block (id)\")\n",
    "c.execute(\"CREATE UNIQUE INDEX plural_block_block_id_id_uniq \"\n",
    "          \" ON plural_block (block_id, id)\")"
   ]
  },
  {
   "cell_type": "markdown",
   "metadata": {},
   "source": [
    "### Covered Blocks table\n",
    "\n",
    "This table maps records to the blocks they appear in (if more than one, all blocks are concatenated with a comma separator). Remember that, at this stage, blocks with just one record in (\"singleton\" blocks) have been excluded."
   ]
  },
  {
   "cell_type": "code",
   "execution_count": 57,
   "metadata": {
    "collapsed": false
   },
   "outputs": [
    {
     "name": "stderr",
     "output_type": "stream",
     "text": [
      "INFO:root:creating covered_blocks\n"
     ]
    },
    {
     "data": {
      "text/plain": [
       "<sqlite3.Cursor at 0x1358b8500>"
      ]
     },
     "execution_count": 57,
     "metadata": {},
     "output_type": "execute_result"
    }
   ],
   "source": [
    "logging.info(\"creating covered_blocks\")\n",
    "c.execute(\" CREATE TABLE covered_blocks AS \"\n",
    "          \" SELECT id, GROUP_CONCAT(block_id) AS sorted_ids\"\n",
    "          \" FROM (SELECT id, block_id FROM plural_block ORDER BY id, block_id) AS a \"\n",
    "          \" GROUP BY id\")"
   ]
  },
  {
   "cell_type": "code",
   "execution_count": 58,
   "metadata": {
    "collapsed": false
   },
   "outputs": [
    {
     "data": {
      "text/html": [
       "<div>\n",
       "<table border=\"1\" class=\"dataframe\">\n",
       "  <thead>\n",
       "    <tr style=\"text-align: right;\">\n",
       "      <th></th>\n",
       "      <th>id</th>\n",
       "      <th>sorted_ids</th>\n",
       "    </tr>\n",
       "  </thead>\n",
       "  <tbody>\n",
       "    <tr>\n",
       "      <th>0</th>\n",
       "      <td>0</td>\n",
       "      <td>1</td>\n",
       "    </tr>\n",
       "    <tr>\n",
       "      <th>1</th>\n",
       "      <td>1</td>\n",
       "      <td>2</td>\n",
       "    </tr>\n",
       "    <tr>\n",
       "      <th>2</th>\n",
       "      <td>7</td>\n",
       "      <td>57783</td>\n",
       "    </tr>\n",
       "    <tr>\n",
       "      <th>3</th>\n",
       "      <td>9</td>\n",
       "      <td>64129</td>\n",
       "    </tr>\n",
       "    <tr>\n",
       "      <th>4</th>\n",
       "      <td>13</td>\n",
       "      <td>6112</td>\n",
       "    </tr>\n",
       "  </tbody>\n",
       "</table>\n",
       "</div>"
      ],
      "text/plain": [
       "   id sorted_ids\n",
       "0   0          1\n",
       "1   1          2\n",
       "2   7      57783\n",
       "3   9      64129\n",
       "4  13       6112"
      ]
     },
     "execution_count": 58,
     "metadata": {},
     "output_type": "execute_result"
    }
   ],
   "source": [
    "covered_blocks_df = pd.read_sql(\"SELECT * FROM covered_blocks\", conn)\n",
    "covered_blocks_df.head()"
   ]
  },
  {
   "cell_type": "markdown",
   "metadata": {},
   "source": [
    "Number of rows in `covered_blocks`:"
   ]
  },
  {
   "cell_type": "code",
   "execution_count": 59,
   "metadata": {
    "collapsed": false
   },
   "outputs": [
    {
     "name": "stdout",
     "output_type": "stream",
     "text": [
      "258376\n"
     ]
    }
   ],
   "source": [
    "print(len(covered_blocks_df))"
   ]
  },
  {
   "cell_type": "markdown",
   "metadata": {},
   "source": [
    "Examples of rows which appear in more than one block:"
   ]
  },
  {
   "cell_type": "code",
   "execution_count": 60,
   "metadata": {
    "collapsed": false
   },
   "outputs": [
    {
     "data": {
      "text/html": [
       "<div>\n",
       "<table border=\"1\" class=\"dataframe\">\n",
       "  <thead>\n",
       "    <tr style=\"text-align: right;\">\n",
       "      <th></th>\n",
       "      <th>id</th>\n",
       "      <th>sorted_ids</th>\n",
       "    </tr>\n",
       "  </thead>\n",
       "  <tbody>\n",
       "    <tr>\n",
       "      <th>9</th>\n",
       "      <td>27</td>\n",
       "      <td>27254,27255</td>\n",
       "    </tr>\n",
       "    <tr>\n",
       "      <th>19</th>\n",
       "      <td>75</td>\n",
       "      <td>60564,60565</td>\n",
       "    </tr>\n",
       "    <tr>\n",
       "      <th>20</th>\n",
       "      <td>80</td>\n",
       "      <td>61869,61870</td>\n",
       "    </tr>\n",
       "    <tr>\n",
       "      <th>24</th>\n",
       "      <td>92</td>\n",
       "      <td>64591,64592</td>\n",
       "    </tr>\n",
       "    <tr>\n",
       "      <th>41</th>\n",
       "      <td>197</td>\n",
       "      <td>17381,17382</td>\n",
       "    </tr>\n",
       "  </tbody>\n",
       "</table>\n",
       "</div>"
      ],
      "text/plain": [
       "     id   sorted_ids\n",
       "9    27  27254,27255\n",
       "19   75  60564,60565\n",
       "20   80  61869,61870\n",
       "24   92  64591,64592\n",
       "41  197  17381,17382"
      ]
     },
     "execution_count": 60,
     "metadata": {},
     "output_type": "execute_result"
    }
   ],
   "source": [
    "covered_blocks_df[covered_blocks_df.sorted_ids.str.contains(',')].head()"
   ]
  },
  {
   "cell_type": "code",
   "execution_count": 61,
   "metadata": {
    "collapsed": false
   },
   "outputs": [
    {
     "data": {
      "text/plain": [
       "<sqlite3.Cursor at 0x1358b8500>"
      ]
     },
     "execution_count": 61,
     "metadata": {},
     "output_type": "execute_result"
    }
   ],
   "source": [
    "c.execute(\"CREATE UNIQUE INDEX covered_blocks_id_idx \"\n",
    "          \"ON covered_blocks (id)\")"
   ]
  },
  {
   "cell_type": "code",
   "execution_count": 62,
   "metadata": {
    "collapsed": true
   },
   "outputs": [],
   "source": [
    "conn.commit()"
   ]
  },
  {
   "cell_type": "markdown",
   "metadata": {},
   "source": [
    "### Smaller Coverage table\n",
    "\n",
    "This table is a PITA to think about. Essentially, it says: for each record, which `block_id` is it in; is it in any other `block_ids`; and if so, which other `block_ids` are smaller than this one? The purpose is that we don't want to make multiple comparisons of the same pairs of records. If both records fall into the two blocks, for example, we only want to compare them once."
   ]
  },
  {
   "cell_type": "code",
   "execution_count": 63,
   "metadata": {
    "collapsed": false
   },
   "outputs": [
    {
     "name": "stderr",
     "output_type": "stream",
     "text": [
      "INFO:root:creating smaller_coverage\n"
     ]
    },
    {
     "data": {
      "text/plain": [
       "<sqlite3.Cursor at 0x1358b8500>"
      ]
     },
     "execution_count": 63,
     "metadata": {},
     "output_type": "execute_result"
    }
   ],
   "source": [
    "logging.info(\"creating smaller_coverage\")\n",
    "c.execute(\" DROP TABLE IF EXISTS smaller_coverage \")\n",
    "c.execute(\" CREATE TABLE smaller_coverage \"\n",
    "          \" AS SELECT a.id, block_id, sorted_ids, \"\n",
    "          \"           RTRIM(SUBSTR(sorted_ids, 1, INSTR(sorted_ids, block_id) - 1), ',') as smaller_ids \"\n",
    "          \" FROM plural_block AS a \"\n",
    "          \" INNER JOIN covered_blocks AS b \"\n",
    "          \" ON a.id = b.id\")"
   ]
  },
  {
   "cell_type": "code",
   "execution_count": 64,
   "metadata": {
    "collapsed": false
   },
   "outputs": [
    {
     "data": {
      "text/html": [
       "<div>\n",
       "<table border=\"1\" class=\"dataframe\">\n",
       "  <thead>\n",
       "    <tr style=\"text-align: right;\">\n",
       "      <th></th>\n",
       "      <th>id</th>\n",
       "      <th>block_id</th>\n",
       "      <th>sorted_ids</th>\n",
       "      <th>smaller_ids</th>\n",
       "    </tr>\n",
       "  </thead>\n",
       "  <tbody>\n",
       "    <tr>\n",
       "      <th>0</th>\n",
       "      <td>0</td>\n",
       "      <td>1</td>\n",
       "      <td>1</td>\n",
       "      <td></td>\n",
       "    </tr>\n",
       "    <tr>\n",
       "      <th>1</th>\n",
       "      <td>605691</td>\n",
       "      <td>1</td>\n",
       "      <td>1</td>\n",
       "      <td></td>\n",
       "    </tr>\n",
       "    <tr>\n",
       "      <th>2</th>\n",
       "      <td>1</td>\n",
       "      <td>2</td>\n",
       "      <td>2</td>\n",
       "      <td></td>\n",
       "    </tr>\n",
       "    <tr>\n",
       "      <th>3</th>\n",
       "      <td>605692</td>\n",
       "      <td>2</td>\n",
       "      <td>2</td>\n",
       "      <td></td>\n",
       "    </tr>\n",
       "    <tr>\n",
       "      <th>4</th>\n",
       "      <td>1000</td>\n",
       "      <td>3</td>\n",
       "      <td>3</td>\n",
       "      <td></td>\n",
       "    </tr>\n",
       "  </tbody>\n",
       "</table>\n",
       "</div>"
      ],
      "text/plain": [
       "       id  block_id sorted_ids smaller_ids\n",
       "0       0         1          1            \n",
       "1  605691         1          1            \n",
       "2       1         2          2            \n",
       "3  605692         2          2            \n",
       "4    1000         3          3            "
      ]
     },
     "execution_count": 64,
     "metadata": {},
     "output_type": "execute_result"
    }
   ],
   "source": [
    "smaller_coverage_df = pd.read_sql(\"SELECT * FROM smaller_coverage\", conn)\n",
    "smaller_coverage_df.head()"
   ]
  },
  {
   "cell_type": "code",
   "execution_count": 65,
   "metadata": {
    "collapsed": false
   },
   "outputs": [
    {
     "name": "stdout",
     "output_type": "stream",
     "text": [
      "294466\n"
     ]
    }
   ],
   "source": [
    "print(len(smaller_coverage_df))"
   ]
  },
  {
   "cell_type": "markdown",
   "metadata": {},
   "source": [
    "Examples of where `smaller_ids` is not empty:"
   ]
  },
  {
   "cell_type": "code",
   "execution_count": 66,
   "metadata": {
    "collapsed": false
   },
   "outputs": [
    {
     "data": {
      "text/html": [
       "<div>\n",
       "<table border=\"1\" class=\"dataframe\">\n",
       "  <thead>\n",
       "    <tr style=\"text-align: right;\">\n",
       "      <th></th>\n",
       "      <th>id</th>\n",
       "      <th>block_id</th>\n",
       "      <th>sorted_ids</th>\n",
       "      <th>smaller_ids</th>\n",
       "    </tr>\n",
       "  </thead>\n",
       "  <tbody>\n",
       "    <tr>\n",
       "      <th>69828</th>\n",
       "      <td>178568</td>\n",
       "      <td>14600</td>\n",
       "      <td>14598,14599,14600</td>\n",
       "      <td>14598,14599</td>\n",
       "    </tr>\n",
       "    <tr>\n",
       "      <th>69829</th>\n",
       "      <td>223486</td>\n",
       "      <td>14600</td>\n",
       "      <td>14598,14599,14600</td>\n",
       "      <td>14598,14599</td>\n",
       "    </tr>\n",
       "    <tr>\n",
       "      <th>69830</th>\n",
       "      <td>245362</td>\n",
       "      <td>14600</td>\n",
       "      <td>14598,14599,14600</td>\n",
       "      <td>14598,14599</td>\n",
       "    </tr>\n",
       "    <tr>\n",
       "      <th>69936</th>\n",
       "      <td>178720</td>\n",
       "      <td>14628</td>\n",
       "      <td>7265,14627,14628</td>\n",
       "      <td>7265,14627</td>\n",
       "    </tr>\n",
       "    <tr>\n",
       "      <th>69937</th>\n",
       "      <td>241185</td>\n",
       "      <td>14628</td>\n",
       "      <td>7265,14627,14628</td>\n",
       "      <td>7265,14627</td>\n",
       "    </tr>\n",
       "  </tbody>\n",
       "</table>\n",
       "</div>"
      ],
      "text/plain": [
       "           id  block_id         sorted_ids  smaller_ids\n",
       "69828  178568     14600  14598,14599,14600  14598,14599\n",
       "69829  223486     14600  14598,14599,14600  14598,14599\n",
       "69830  245362     14600  14598,14599,14600  14598,14599\n",
       "69936  178720     14628   7265,14627,14628   7265,14627\n",
       "69937  241185     14628   7265,14627,14628   7265,14627"
      ]
     },
     "execution_count": 66,
     "metadata": {},
     "output_type": "execute_result"
    }
   ],
   "source": [
    "smaller_coverage_df[smaller_coverage_df.smaller_ids.str.contains(',')].head()"
   ]
  },
  {
   "cell_type": "markdown",
   "metadata": {},
   "source": [
    "## Clustering within the blocks/canopies\n",
    "\n",
    "First create the final table that is fed to `matchBlocks`:"
   ]
  },
  {
   "cell_type": "code",
   "execution_count": 67,
   "metadata": {
    "collapsed": false
   },
   "outputs": [
    {
     "name": "stderr",
     "output_type": "stream",
     "text": [
      "INFO:root:creating final table\n"
     ]
    },
    {
     "data": {
      "text/plain": [
       "<sqlite3.Cursor at 0x1358b8500>"
      ]
     },
     "execution_count": 67,
     "metadata": {},
     "output_type": "execute_result"
    }
   ],
   "source": [
    "logging.info(\"creating final table\")\n",
    "c.execute(\"CREATE TABLE final AS \"\n",
    "          \"SELECT a.id, family_name,given_name, middle_name, dob_year, dob_month, \"\n",
    "          \"block_id, smaller_ids \"\n",
    "          \"FROM smaller_coverage AS a \"\n",
    "          \"INNER JOIN actual_data AS b \"\n",
    "          \"ON a.id = b.id \"\n",
    "          \"ORDER BY (block_id)\")"
   ]
  },
  {
   "cell_type": "code",
   "execution_count": 68,
   "metadata": {
    "collapsed": true
   },
   "outputs": [],
   "source": [
    "conn.commit()"
   ]
  },
  {
   "cell_type": "code",
   "execution_count": 69,
   "metadata": {
    "collapsed": false
   },
   "outputs": [
    {
     "data": {
      "text/html": [
       "<div>\n",
       "<table border=\"1\" class=\"dataframe\">\n",
       "  <thead>\n",
       "    <tr style=\"text-align: right;\">\n",
       "      <th></th>\n",
       "      <th>id</th>\n",
       "      <th>family_name</th>\n",
       "      <th>given_name</th>\n",
       "      <th>middle_name</th>\n",
       "      <th>dob_year</th>\n",
       "      <th>dob_month</th>\n",
       "      <th>block_id</th>\n",
       "      <th>smaller_ids</th>\n",
       "    </tr>\n",
       "  </thead>\n",
       "  <tbody>\n",
       "    <tr>\n",
       "      <th>0</th>\n",
       "      <td>0</td>\n",
       "      <td>White</td>\n",
       "      <td>Mary</td>\n",
       "      <td>Jane Ursula</td>\n",
       "      <td>1961</td>\n",
       "      <td>8</td>\n",
       "      <td>1</td>\n",
       "      <td></td>\n",
       "    </tr>\n",
       "    <tr>\n",
       "      <th>1</th>\n",
       "      <td>605691</td>\n",
       "      <td>White</td>\n",
       "      <td>Mary</td>\n",
       "      <td>Jane Ursula</td>\n",
       "      <td>1961</td>\n",
       "      <td>8</td>\n",
       "      <td>1</td>\n",
       "      <td></td>\n",
       "    </tr>\n",
       "    <tr>\n",
       "      <th>2</th>\n",
       "      <td>1</td>\n",
       "      <td>White</td>\n",
       "      <td>Andrew</td>\n",
       "      <td>Gwynne Haydon</td>\n",
       "      <td>1960</td>\n",
       "      <td>2</td>\n",
       "      <td>2</td>\n",
       "      <td></td>\n",
       "    </tr>\n",
       "    <tr>\n",
       "      <th>3</th>\n",
       "      <td>605692</td>\n",
       "      <td>White</td>\n",
       "      <td>Andrew</td>\n",
       "      <td>Gwynne Haydon</td>\n",
       "      <td>1960</td>\n",
       "      <td>2</td>\n",
       "      <td>2</td>\n",
       "      <td></td>\n",
       "    </tr>\n",
       "    <tr>\n",
       "      <th>4</th>\n",
       "      <td>1000</td>\n",
       "      <td>Osborne</td>\n",
       "      <td>Jill</td>\n",
       "      <td>Penelope</td>\n",
       "      <td>1951</td>\n",
       "      <td>10</td>\n",
       "      <td>3</td>\n",
       "      <td></td>\n",
       "    </tr>\n",
       "  </tbody>\n",
       "</table>\n",
       "</div>"
      ],
      "text/plain": [
       "       id family_name given_name    middle_name dob_year dob_month  block_id  \\\n",
       "0       0       White       Mary    Jane Ursula     1961         8         1   \n",
       "1  605691       White       Mary    Jane Ursula     1961         8         1   \n",
       "2       1       White     Andrew  Gwynne Haydon     1960         2         2   \n",
       "3  605692       White     Andrew  Gwynne Haydon     1960         2         2   \n",
       "4    1000     Osborne       Jill       Penelope     1951        10         3   \n",
       "\n",
       "  smaller_ids  \n",
       "0              \n",
       "1              \n",
       "2              \n",
       "3              \n",
       "4              "
      ]
     },
     "execution_count": 69,
     "metadata": {},
     "output_type": "execute_result"
    }
   ],
   "source": [
    "to_match = pd.read_sql(\"SELECT * FROM final\", conn)\n",
    "to_match.head()"
   ]
  },
  {
   "cell_type": "markdown",
   "metadata": {},
   "source": [
    "Write a generator function that feeds the blocks to `matchBlocks` in the correct format:"
   ]
  },
  {
   "cell_type": "code",
   "execution_count": 70,
   "metadata": {
    "collapsed": true
   },
   "outputs": [],
   "source": [
    "start_time = time.time()\n",
    "\n",
    "# Clustering function\n",
    "def candidates_gen(result_set) :\n",
    "    lset = set\n",
    "\n",
    "    block_id = None\n",
    "    records = []\n",
    "    i = 0\n",
    "    for row in result_set :\n",
    "        # need to change from list to dict for sqlite query\n",
    "        row = {'id': row[0],\n",
    "               'family_name' : row[1],\n",
    "               'given_name' : row[2],\n",
    "               'middle_name' : row[3],\n",
    "               'dob_year' : row[4],\n",
    "               'dob_month' : row[5],\n",
    "               'block_id' : row[6],\n",
    "               'smaller_ids' : row[7]}\n",
    "\n",
    "        # if there's a new block id then yield the old block\n",
    "        if row['block_id'] != block_id :\n",
    "            #print(\"done with block id: {}\".format(row['block_id']))\n",
    "            if records :\n",
    "                #print(len(records))\n",
    "                yield records\n",
    "\n",
    "            \n",
    "            block_id = row['block_id']\n",
    "            records = []\n",
    "            i += 1\n",
    "\n",
    "            if i % 10000 == 0 :\n",
    "                print(i, \"blocks\")\n",
    "                print(time.time() - start_time, \"seconds\")\n",
    "\n",
    "        smaller_ids = row['smaller_ids']\n",
    "\n",
    "        if smaller_ids :\n",
    "            smaller_ids = lset(smaller_ids.split(','))\n",
    "        else :\n",
    "            smaller_ids = lset([])\n",
    "\n",
    "        records.append((row['id'], row, smaller_ids))\n",
    "\n",
    "    # once gone through the loop need to yield the last block\n",
    "    if records :\n",
    "        yield records"
   ]
  },
  {
   "cell_type": "markdown",
   "metadata": {
    "collapsed": true
   },
   "source": [
    "Deal with the bug where `matchBlocks` hangs if it is using more than one core:"
   ]
  },
  {
   "cell_type": "code",
   "execution_count": 71,
   "metadata": {
    "collapsed": false
   },
   "outputs": [],
   "source": [
    "# this has to be set to 1 or matchBlocks fails\n",
    "deduper.num_cores = 1"
   ]
  },
  {
   "cell_type": "code",
   "execution_count": 72,
   "metadata": {
    "collapsed": false,
    "scrolled": true
   },
   "outputs": [
    {
     "name": "stdout",
     "output_type": "stream",
     "text": [
      "clustering...\n"
     ]
    }
   ],
   "source": [
    "c.execute(\"SELECT * FROM final\")\n",
    "# cands is the iterable\n",
    "cands = candidates_gen(c)"
   ]
  },
  {
   "cell_type": "markdown",
   "metadata": {},
   "source": [
    "Finally - at the stage where we can perform the comparison between all the records in a block:"
   ]
  },
  {
   "cell_type": "code",
   "execution_count": 73,
   "metadata": {
    "collapsed": false,
    "scrolled": true
   },
   "outputs": [
    {
     "name": "stdout",
     "output_type": "stream",
     "text": [
      "10000 blocks\n",
      "11.290481805801392 seconds\n",
      "20000 blocks\n",
      "15.696646928787231 seconds\n",
      "30000 blocks\n",
      "20.057891845703125 seconds\n",
      "40000 blocks\n",
      "23.997675895690918 seconds\n",
      "50000 blocks\n",
      "28.32711100578308 seconds\n",
      "60000 blocks\n",
      "32.93247079849243 seconds\n"
     ]
    }
   ],
   "source": [
    "print('clustering...')\n",
    "clustered_dupes = deduper.matchBlocks(cands)"
   ]
  },
  {
   "cell_type": "markdown",
   "metadata": {},
   "source": [
    "## Saving the results\n",
    "\n",
    "We store the results of `matchBlocks` in a table called `entity_map`:"
   ]
  },
  {
   "cell_type": "code",
   "execution_count": 74,
   "metadata": {
    "collapsed": false
   },
   "outputs": [
    {
     "name": "stdout",
     "output_type": "stream",
     "text": [
      "creating entity_map database\n"
     ]
    },
    {
     "data": {
      "text/plain": [
       "<sqlite3.Cursor at 0x1358b8500>"
      ]
     },
     "execution_count": 74,
     "metadata": {},
     "output_type": "execute_result"
    }
   ],
   "source": [
    "c.execute(\"DROP TABLE IF EXISTS entity_map\")\n",
    "\n",
    "print('creating entity_map database')\n",
    "c.execute(\"CREATE TABLE entity_map \"\n",
    "          \"(id INTEGER, canon_id INTEGER, \"\n",
    "          \" cluster_score FLOAT, PRIMARY KEY(id))\")"
   ]
  },
  {
   "cell_type": "code",
   "execution_count": 75,
   "metadata": {
    "collapsed": true
   },
   "outputs": [],
   "source": [
    "for cluster, scores in clustered_dupes :\n",
    "    cluster_id = cluster[0]\n",
    "    for id, score in zip(cluster, scores) :\n",
    "        c.execute('INSERT INTO entity_map VALUES ({}, {}, {})'.format(id, cluster_id, score))"
   ]
  },
  {
   "cell_type": "code",
   "execution_count": 76,
   "metadata": {
    "collapsed": false
   },
   "outputs": [],
   "source": [
    "c.execute(\"CREATE INDEX head_index ON entity_map (canon_id)\")\n",
    "conn.commit()"
   ]
  },
  {
   "cell_type": "code",
   "execution_count": 77,
   "metadata": {
    "collapsed": true
   },
   "outputs": [],
   "source": [
    "entity_map_df = pd.read_sql(\"SELECT * FROM entity_map\", conn)"
   ]
  },
  {
   "cell_type": "code",
   "execution_count": 78,
   "metadata": {
    "collapsed": false
   },
   "outputs": [
    {
     "data": {
      "text/html": [
       "<div>\n",
       "<table border=\"1\" class=\"dataframe\">\n",
       "  <thead>\n",
       "    <tr style=\"text-align: right;\">\n",
       "      <th></th>\n",
       "      <th>id</th>\n",
       "      <th>canon_id</th>\n",
       "      <th>cluster_score</th>\n",
       "    </tr>\n",
       "  </thead>\n",
       "  <tbody>\n",
       "    <tr>\n",
       "      <th>0</th>\n",
       "      <td>0</td>\n",
       "      <td>0</td>\n",
       "      <td>1.0</td>\n",
       "    </tr>\n",
       "    <tr>\n",
       "      <th>1</th>\n",
       "      <td>1</td>\n",
       "      <td>1</td>\n",
       "      <td>1.0</td>\n",
       "    </tr>\n",
       "    <tr>\n",
       "      <th>2</th>\n",
       "      <td>9</td>\n",
       "      <td>9</td>\n",
       "      <td>1.0</td>\n",
       "    </tr>\n",
       "    <tr>\n",
       "      <th>3</th>\n",
       "      <td>13</td>\n",
       "      <td>13</td>\n",
       "      <td>1.0</td>\n",
       "    </tr>\n",
       "    <tr>\n",
       "      <th>4</th>\n",
       "      <td>24</td>\n",
       "      <td>24</td>\n",
       "      <td>1.0</td>\n",
       "    </tr>\n",
       "  </tbody>\n",
       "</table>\n",
       "</div>"
      ],
      "text/plain": [
       "   id  canon_id  cluster_score\n",
       "0   0         0            1.0\n",
       "1   1         1            1.0\n",
       "2   9         9            1.0\n",
       "3  13        13            1.0\n",
       "4  24        24            1.0"
      ]
     },
     "execution_count": 78,
     "metadata": {},
     "output_type": "execute_result"
    }
   ],
   "source": [
    "entity_map_df.head()"
   ]
  },
  {
   "cell_type": "markdown",
   "metadata": {},
   "source": [
    "Print the number of duplicates found:"
   ]
  },
  {
   "cell_type": "code",
   "execution_count": 79,
   "metadata": {
    "collapsed": false
   },
   "outputs": [
    {
     "name": "stdout",
     "output_type": "stream",
     "text": [
      "# duplicate sets\n",
      "32805\n"
     ]
    }
   ],
   "source": [
    "print('# duplicate sets')\n",
    "print(len(clustered_dupes))"
   ]
  },
  {
   "cell_type": "markdown",
   "metadata": {},
   "source": [
    "## Combining the results with the original data"
   ]
  },
  {
   "cell_type": "code",
   "execution_count": 80,
   "metadata": {
    "collapsed": true
   },
   "outputs": [],
   "source": [
    "output = pd.merge(to_dedupe, entity_map_df, left_index = True, right_on = 'id', how = 'left')"
   ]
  },
  {
   "cell_type": "code",
   "execution_count": 81,
   "metadata": {
    "collapsed": false
   },
   "outputs": [
    {
     "data": {
      "text/html": [
       "<div>\n",
       "<table border=\"1\" class=\"dataframe\">\n",
       "  <thead>\n",
       "    <tr style=\"text-align: right;\">\n",
       "      <th></th>\n",
       "      <th>family_name</th>\n",
       "      <th>given_name</th>\n",
       "      <th>middle_name</th>\n",
       "      <th>dob_year</th>\n",
       "      <th>dob_month</th>\n",
       "      <th>id</th>\n",
       "      <th>canon_id</th>\n",
       "      <th>cluster_score</th>\n",
       "    </tr>\n",
       "  </thead>\n",
       "  <tbody>\n",
       "    <tr>\n",
       "      <th>0</th>\n",
       "      <td>White</td>\n",
       "      <td>Mary</td>\n",
       "      <td>Jane Ursula</td>\n",
       "      <td>1961</td>\n",
       "      <td>8</td>\n",
       "      <td>0</td>\n",
       "      <td>0.0</td>\n",
       "      <td>1.0</td>\n",
       "    </tr>\n",
       "    <tr>\n",
       "      <th>65881</th>\n",
       "      <td>White</td>\n",
       "      <td>Mary</td>\n",
       "      <td>Jane Ursula</td>\n",
       "      <td>1961</td>\n",
       "      <td>8</td>\n",
       "      <td>605691</td>\n",
       "      <td>0.0</td>\n",
       "      <td>1.0</td>\n",
       "    </tr>\n",
       "    <tr>\n",
       "      <th>1</th>\n",
       "      <td>White</td>\n",
       "      <td>Andrew</td>\n",
       "      <td>Gwynne Haydon</td>\n",
       "      <td>1960</td>\n",
       "      <td>2</td>\n",
       "      <td>1</td>\n",
       "      <td>1.0</td>\n",
       "      <td>1.0</td>\n",
       "    </tr>\n",
       "    <tr>\n",
       "      <th>65882</th>\n",
       "      <td>White</td>\n",
       "      <td>Andrew</td>\n",
       "      <td>Gwynne Haydon</td>\n",
       "      <td>1960</td>\n",
       "      <td>2</td>\n",
       "      <td>605692</td>\n",
       "      <td>1.0</td>\n",
       "      <td>1.0</td>\n",
       "    </tr>\n",
       "    <tr>\n",
       "      <th>2</th>\n",
       "      <td>Howells</td>\n",
       "      <td>Peter</td>\n",
       "      <td>John</td>\n",
       "      <td>1951</td>\n",
       "      <td>3</td>\n",
       "      <td>9</td>\n",
       "      <td>9.0</td>\n",
       "      <td>1.0</td>\n",
       "    </tr>\n",
       "    <tr>\n",
       "      <th>4703</th>\n",
       "      <td>Howells</td>\n",
       "      <td>Peter</td>\n",
       "      <td>John</td>\n",
       "      <td>1951</td>\n",
       "      <td>3</td>\n",
       "      <td>33099</td>\n",
       "      <td>9.0</td>\n",
       "      <td>1.0</td>\n",
       "    </tr>\n",
       "    <tr>\n",
       "      <th>120</th>\n",
       "      <td>Sanderson</td>\n",
       "      <td>John</td>\n",
       "      <td>Francis</td>\n",
       "      <td>1941</td>\n",
       "      <td>9</td>\n",
       "      <td>895</td>\n",
       "      <td>13.0</td>\n",
       "      <td>1.0</td>\n",
       "    </tr>\n",
       "    <tr>\n",
       "      <th>21394</th>\n",
       "      <td>Sanderson</td>\n",
       "      <td>John</td>\n",
       "      <td>Francis</td>\n",
       "      <td>1941</td>\n",
       "      <td>9</td>\n",
       "      <td>173796</td>\n",
       "      <td>13.0</td>\n",
       "      <td>1.0</td>\n",
       "    </tr>\n",
       "    <tr>\n",
       "      <th>3</th>\n",
       "      <td>Sanderson</td>\n",
       "      <td>John</td>\n",
       "      <td>Francis</td>\n",
       "      <td>1941</td>\n",
       "      <td>9</td>\n",
       "      <td>13</td>\n",
       "      <td>13.0</td>\n",
       "      <td>1.0</td>\n",
       "    </tr>\n",
       "    <tr>\n",
       "      <th>4</th>\n",
       "      <td>Richardson</td>\n",
       "      <td>Eric</td>\n",
       "      <td>Keith</td>\n",
       "      <td>1939</td>\n",
       "      <td>1</td>\n",
       "      <td>24</td>\n",
       "      <td>24.0</td>\n",
       "      <td>1.0</td>\n",
       "    </tr>\n",
       "  </tbody>\n",
       "</table>\n",
       "</div>"
      ],
      "text/plain": [
       "      family_name given_name    middle_name dob_year dob_month      id  \\\n",
       "0           White       Mary    Jane Ursula     1961         8       0   \n",
       "65881       White       Mary    Jane Ursula     1961         8  605691   \n",
       "1           White     Andrew  Gwynne Haydon     1960         2       1   \n",
       "65882       White     Andrew  Gwynne Haydon     1960         2  605692   \n",
       "2         Howells      Peter           John     1951         3       9   \n",
       "4703      Howells      Peter           John     1951         3   33099   \n",
       "120     Sanderson       John        Francis     1941         9     895   \n",
       "21394   Sanderson       John        Francis     1941         9  173796   \n",
       "3       Sanderson       John        Francis     1941         9      13   \n",
       "4      Richardson       Eric          Keith     1939         1      24   \n",
       "\n",
       "       canon_id  cluster_score  \n",
       "0           0.0            1.0  \n",
       "65881       0.0            1.0  \n",
       "1           1.0            1.0  \n",
       "65882       1.0            1.0  \n",
       "2           9.0            1.0  \n",
       "4703        9.0            1.0  \n",
       "120        13.0            1.0  \n",
       "21394      13.0            1.0  \n",
       "3          13.0            1.0  \n",
       "4          24.0            1.0  "
      ]
     },
     "execution_count": 81,
     "metadata": {},
     "output_type": "execute_result"
    }
   ],
   "source": [
    "output.sort_values(by = 'canon_id').head(10)"
   ]
  },
  {
   "cell_type": "markdown",
   "metadata": {},
   "source": [
    "An example of success - for this person, the `dob_year` is different, but each row fairly surely refers to the same thing, so they have the same `canon_id`:"
   ]
  },
  {
   "cell_type": "code",
   "execution_count": 86,
   "metadata": {
    "collapsed": false
   },
   "outputs": [
    {
     "data": {
      "text/html": [
       "<div>\n",
       "<table border=\"1\" class=\"dataframe\">\n",
       "  <thead>\n",
       "    <tr style=\"text-align: right;\">\n",
       "      <th></th>\n",
       "      <th>family_name</th>\n",
       "      <th>given_name</th>\n",
       "      <th>middle_name</th>\n",
       "      <th>dob_year</th>\n",
       "      <th>dob_month</th>\n",
       "      <th>id</th>\n",
       "      <th>canon_id</th>\n",
       "      <th>cluster_score</th>\n",
       "    </tr>\n",
       "  </thead>\n",
       "  <tbody>\n",
       "    <tr>\n",
       "      <th>46</th>\n",
       "      <td>Meath Baker</td>\n",
       "      <td>Prescilla</td>\n",
       "      <td>Ann</td>\n",
       "      <td>1937</td>\n",
       "      <td>5</td>\n",
       "      <td>361</td>\n",
       "      <td>361.0</td>\n",
       "      <td>0.764748</td>\n",
       "    </tr>\n",
       "    <tr>\n",
       "      <th>81</th>\n",
       "      <td>Meath Baker</td>\n",
       "      <td>Prescilla</td>\n",
       "      <td>Ann</td>\n",
       "      <td>1938</td>\n",
       "      <td>5</td>\n",
       "      <td>610</td>\n",
       "      <td>361.0</td>\n",
       "      <td>0.764748</td>\n",
       "    </tr>\n",
       "  </tbody>\n",
       "</table>\n",
       "</div>"
      ],
      "text/plain": [
       "    family_name given_name middle_name dob_year dob_month   id  canon_id  \\\n",
       "46  Meath Baker  Prescilla         Ann     1937         5  361     361.0   \n",
       "81  Meath Baker  Prescilla         Ann     1938         5  610     361.0   \n",
       "\n",
       "    cluster_score  \n",
       "46       0.764748  \n",
       "81       0.764748  "
      ]
     },
     "execution_count": 86,
     "metadata": {},
     "output_type": "execute_result"
    }
   ],
   "source": [
    "output[output.family_name == 'Meath Baker']"
   ]
  },
  {
   "cell_type": "markdown",
   "metadata": {},
   "source": [
    "Rows with the same `canon_id` are the rows which dedupe believes are the referring to the same thing. The `cluster_score` is a measure of how sure dedupe is about the comparison. If there is no `canon_id` at all, dedupe doesn't believe that that row has a pair.\n",
    "\n",
    "By playing with the precision/recall in the `train` (and other?) methods, one can move the metaphorical slider between capturing _all_ of the duplicated records (at the expense of including some pairs which aren't referring to the same person - high recall), and being certain that the records you say are pairs really are pairs (at the expense of missing some of the pairs that should be lumped together - high precision).\n",
    "\n",
    "Much more information about entity resolution can be found in this [PhD thesis](http://www.cs.utexas.edu/~ml/papers/marlin-dissertation-06.pdf). Indeed the dedupe package itself is based on this work!"
   ]
  },
  {
   "cell_type": "code",
   "execution_count": 87,
   "metadata": {
    "collapsed": true
   },
   "outputs": [],
   "source": [
    "# save output to a csv\n",
    "output.to_csv('entity_resolved_controlling_entities.csv')"
   ]
  }
 ],
 "metadata": {
  "anaconda-cloud": {},
  "kernelspec": {
   "display_name": "Python [conda env:datakind3]",
   "language": "python",
   "name": "conda-env-datakind3-py"
  },
  "language_info": {
   "codemirror_mode": {
    "name": "ipython",
    "version": 3
   },
   "file_extension": ".py",
   "mimetype": "text/x-python",
   "name": "python",
   "nbconvert_exporter": "python",
   "pygments_lexer": "ipython3",
   "version": "3.5.2"
  }
 },
 "nbformat": 4,
 "nbformat_minor": 2
}
